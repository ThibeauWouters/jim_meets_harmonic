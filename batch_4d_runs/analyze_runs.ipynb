{
 "cells": [
  {
   "cell_type": "markdown",
   "metadata": {},
   "source": [
    "# Analyze runs"
   ]
  },
  {
   "cell_type": "code",
   "execution_count": 2,
   "metadata": {},
   "outputs": [],
   "source": [
    "import os \n",
    "import numpy as np \n",
    "import json "
   ]
  },
  {
   "cell_type": "code",
   "execution_count": 10,
   "metadata": {},
   "outputs": [
    {
     "name": "stdout",
     "output_type": "stream",
     "text": [
      "0.3286449552777669\n",
      "0.25703952694440024\n",
      "0.32941795111106686\n",
      "0.3136476866666349\n",
      "0.3249072602777669\n"
     ]
    }
   ],
   "source": [
    "outdir = \"./failed_outdir/\"\n",
    "N = 5\n",
    "subdirs = [outdir + \"out_bbh_\" + str(i) + \"/\" for i in range(N)]  \n",
    "\n",
    "for i, subdir in enumerate(subdirs):\n",
    "    id = f\"bbh_{i}\"\n",
    "    with open(subdir + f\"{id}_result.json\", \"r\") as f:\n",
    "        metadata = json.load(f)\n",
    "        sampling_time = metadata[\"sampling_time\"]\n",
    "    \n",
    "    print(sampling_time / 3600)"
   ]
  },
  {
   "cell_type": "code",
   "execution_count": null,
   "metadata": {},
   "outputs": [],
   "source": []
  }
 ],
 "metadata": {
  "kernelspec": {
   "display_name": "parallel_bilby",
   "language": "python",
   "name": "python3"
  },
  "language_info": {
   "codemirror_mode": {
    "name": "ipython",
    "version": 3
   },
   "file_extension": ".py",
   "mimetype": "text/x-python",
   "name": "python",
   "nbconvert_exporter": "python",
   "pygments_lexer": "ipython3",
   "version": "3.10.13"
  },
  "orig_nbformat": 4
 },
 "nbformat": 4,
 "nbformat_minor": 2
}
