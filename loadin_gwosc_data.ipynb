{
 "cells": [
  {
   "cell_type": "markdown",
   "metadata": {},
   "source": [
    "# Loading GWOSC data"
   ]
  },
  {
   "cell_type": "code",
   "execution_count": 67,
   "metadata": {},
   "outputs": [],
   "source": [
    "import numpy as np \n",
    "import h5py"
   ]
  },
  {
   "cell_type": "markdown",
   "metadata": {},
   "source": [
    "Zenodo datasets are here: https://zenodo.org/records/6513631"
   ]
  },
  {
   "cell_type": "code",
   "execution_count": 68,
   "metadata": {},
   "outputs": [],
   "source": [
    "# Point to your filename here:\n",
    "filename = \"/Users/Woute029/Documents/gw-datasets/GW150914/IGWN-GWTC2p1-v2-GW150914_095045_PEDataRelease_mixed_nocosmo.h5\"\n",
    "\n",
    "# Here is the list with all the keys that were sampled over\n",
    "posterior_keys_to_fetch = ['chirp_mass', \n",
    "                           'mass_ratio', \n",
    "                           'a_1', \n",
    "                           'a_2', \n",
    "                           'tilt_1', \n",
    "                           'tilt_2', \n",
    "                           'phi_12', \n",
    "                           'phi_jl', \n",
    "                           'luminosity_distance', \n",
    "                           'geocent_time',\n",
    "                           'theta_jn', \n",
    "                           'psi', \n",
    "                           'phase', \n",
    "                           'azimuth', \n",
    "                           'zenith', \n",
    "                           'recalib_H1_amplitude_0', \n",
    "                           'recalib_H1_amplitude_1', \n",
    "                           'recalib_H1_amplitude_2', \n",
    "                           'recalib_H1_amplitude_3', \n",
    "                           'recalib_H1_amplitude_4', \n",
    "                           'recalib_H1_amplitude_5', \n",
    "                           'recalib_H1_amplitude_6', \n",
    "                           'recalib_H1_amplitude_7',\n",
    "                           'recalib_H1_amplitude_8', \n",
    "                           'recalib_H1_amplitude_9', \n",
    "                           'recalib_H1_phase_0',\n",
    "                           'recalib_H1_phase_1', \n",
    "                           'recalib_H1_phase_2', \n",
    "                           'recalib_H1_phase_3', \n",
    "                           'recalib_H1_phase_4',\n",
    "                           'recalib_H1_phase_5', \n",
    "                           'recalib_H1_phase_6', \n",
    "                           'recalib_H1_phase_7', \n",
    "                           'recalib_H1_phase_8', \n",
    "                           'recalib_H1_phase_9', \n",
    "                           'recalib_L1_amplitude_0', \n",
    "                           'recalib_L1_amplitude_1', \n",
    "                           'recalib_L1_amplitude_2', \n",
    "                           'recalib_L1_amplitude_3', \n",
    "                           'recalib_L1_amplitude_4', \n",
    "                           'recalib_L1_amplitude_5', \n",
    "                           'recalib_L1_amplitude_6', \n",
    "                           'recalib_L1_amplitude_7', \n",
    "                           'recalib_L1_amplitude_8', \n",
    "                           'recalib_L1_amplitude_9', \n",
    "                           'recalib_L1_phase_0', \n",
    "                           'recalib_L1_phase_1', \n",
    "                           'recalib_L1_phase_2', \n",
    "                           'recalib_L1_phase_3', \n",
    "                           'recalib_L1_phase_4', \n",
    "                           'recalib_L1_phase_5', \n",
    "                           'recalib_L1_phase_6', \n",
    "                           'recalib_L1_phase_7', \n",
    "                           'recalib_L1_phase_8', \n",
    "                           'recalib_L1_phase_9', \n",
    "                           'time_jitter', \n",
    "]"
   ]
  },
  {
   "cell_type": "markdown",
   "metadata": {},
   "source": [
    "Now load the HDF5 file and fetch the keys"
   ]
  },
  {
   "cell_type": "code",
   "execution_count": 69,
   "metadata": {},
   "outputs": [
    {
     "name": "stdout",
     "output_type": "stream",
     "text": [
      "['C01:IMRPhenomXPHM', 'C01:Mixed', 'C01:SEOBNRv4PHM', 'history', 'version']\n",
      "<KeysViewHDF5 ['approximant', 'calibration_envelope', 'config_file', 'description', 'injection_data', 'meta_data', 'posterior_samples', 'priors', 'psds', 'skymap', 'version']>\n",
      "(56, 199766)\n"
     ]
    }
   ],
   "source": [
    "with h5py.File(filename) as f:\n",
    "    # There are different posteriors available, since we use different waveform models\n",
    "    all_waveforms = list(f.keys())\n",
    "    print(all_waveforms)\n",
    "    \n",
    "    # See what is in this file\n",
    "    data = f[\"C01:IMRPhenomXPHM\"]\n",
    "    print(data.keys())\n",
    "    \n",
    "    # look at log evidence and error\n",
    "    ln_evidence = f[\"C01:IMRPhenomXPHM\"][\"meta_data\"][\"sampler\"][\"ln_evidence\"][()]\n",
    "    ln_evidence_error = f[\"C01:IMRPhenomXPHM\"][\"meta_data\"][\"sampler\"][\"ln_evidence_error\"][()]\n",
    "    \n",
    "    # If you want to look at specific priors used\n",
    "    priors_samples = f[\"C01:IMRPhenomXPHM\"][\"priors\"][\"samples\"]\n",
    "    priors_calibration = f[\"C01:IMRPhenomXPHM\"][\"priors\"][\"calibration\"]\n",
    "    \n",
    "    # Get the full posterior like this: this is a HDF5 dataset now\n",
    "    posterior = f[\"C01:IMRPhenomXPHM\"][\"posterior_samples\"]\n",
    "    # Get the dtype of the dataset\n",
    "    dtype = posterior.dtype\n",
    "    # List all field names (keys) of the compound data type\n",
    "    field_names = dtype.names\n",
    "    \n",
    "    ### TO show all the keys available\n",
    "    # for field_name in field_names:\n",
    "    #     print(field_name)\n",
    "    \n",
    "    log_likelihood = posterior[\"log_likelihood\"][()]\n",
    "    log_prior = posterior[\"log_prior\"][()]\n",
    "    \n",
    "    # Now all the parameters that were sampled over:\n",
    "    \n",
    "    posterior_samples = np.array([posterior[key][()] for key in posterior_keys_to_fetch])\n",
    "    print(np.shape(posterior_samples))"
   ]
  }
 ],
 "metadata": {
  "kernelspec": {
   "display_name": "jim_meets_harmonic",
   "language": "python",
   "name": "python3"
  },
  "language_info": {
   "codemirror_mode": {
    "name": "ipython",
    "version": 3
   },
   "file_extension": ".py",
   "mimetype": "text/x-python",
   "name": "python",
   "nbconvert_exporter": "python",
   "pygments_lexer": "ipython3",
   "version": "3.10.14"
  },
  "orig_nbformat": 4
 },
 "nbformat": 4,
 "nbformat_minor": 2
}
