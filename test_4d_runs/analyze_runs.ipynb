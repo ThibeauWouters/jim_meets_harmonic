{
 "cells": [
  {
   "cell_type": "markdown",
   "metadata": {},
   "source": [
    "# Analyze runs"
   ]
  },
  {
   "cell_type": "code",
   "execution_count": 1,
   "metadata": {},
   "outputs": [],
   "source": [
    "import os \n",
    "import numpy as np \n",
    "import json "
   ]
  },
  {
   "cell_type": "code",
   "execution_count": 5,
   "metadata": {},
   "outputs": [
    {
     "name": "stdout",
     "output_type": "stream",
     "text": [
      "====================================\n",
      "Sampling time: 19.72 mins\n",
      "Sampling time: 15.42 mins\n",
      "Sampling time: 19.77 mins\n",
      "Sampling time: 18.82 mins\n",
      "Sampling time: 19.49 mins\n",
      "====================================\n",
      "Sampling time: 28.07 mins\n",
      "Sampling time: 18.58 mins\n",
      "Sampling time: 26.13 mins\n",
      "Sampling time: 25.08 mins\n",
      "Failed to load bbh_4_result.json -- probably failed run or not converged yet?\n"
     ]
    }
   ],
   "source": [
    "for outdir in [\"./failed_outdir/\", \"./outdir/\"]:\n",
    "    N = 5\n",
    "    subdirs = [outdir + \"out_bbh_\" + str(i) + \"/\" for i in range(N)]  \n",
    "    \n",
    "    print(\"====================================\")\n",
    "\n",
    "    for i, subdir in enumerate(subdirs):\n",
    "        id = f\"bbh_{i}\"\n",
    "        try:\n",
    "            with open(subdir + f\"{id}_result.json\", \"r\") as f:\n",
    "                metadata = json.load(f)\n",
    "                sampling_time = metadata[\"sampling_time\"]\n",
    "                sampling_time_mins = sampling_time / 60\n",
    "        except FileNotFoundError:\n",
    "            print(f\"Failed to load {id}_result.json -- probably failed run or not converged yet?\")\n",
    "            continue\n",
    "        \n",
    "        print(f\"Sampling time: {sampling_time_mins:.2f} mins\")"
   ]
  },
  {
   "cell_type": "code",
   "execution_count": null,
   "metadata": {},
   "outputs": [],
   "source": []
  }
 ],
 "metadata": {
  "kernelspec": {
   "display_name": "parallel_bilby",
   "language": "python",
   "name": "python3"
  },
  "language_info": {
   "codemirror_mode": {
    "name": "ipython",
    "version": 3
   },
   "file_extension": ".py",
   "mimetype": "text/x-python",
   "name": "python",
   "nbconvert_exporter": "python",
   "pygments_lexer": "ipython3",
   "version": "3.10.13"
  },
  "orig_nbformat": 4
 },
 "nbformat": 4,
 "nbformat_minor": 2
}
