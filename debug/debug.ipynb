{
 "cells": [
  {
   "cell_type": "markdown",
   "metadata": {},
   "source": [
    "# Debug"
   ]
  },
  {
   "cell_type": "markdown",
   "metadata": {},
   "source": [
    "Debug the problems"
   ]
  },
  {
   "cell_type": "markdown",
   "metadata": {},
   "source": [
    "## Preamble"
   ]
  },
  {
   "cell_type": "code",
   "execution_count": 1,
   "metadata": {},
   "outputs": [],
   "source": [
    "import numpy as np\n",
    "import matplotlib.pyplot as plt\n",
    "import pickle\n",
    "import bilby\n",
    "\n",
    "bilby_keys = [\"chirp_mass\",\n",
    "              \"mass_ratio\",\n",
    "              \"chi_1\",\n",
    "              \"chi_2\",\n",
    "              \"luminosity_distance\",\n",
    "              \"geocent_time\",\n",
    "              \"phase\",\n",
    "              \"theta_jn\",\n",
    "              \"psi\",\n",
    "              \"ra\",\n",
    "              \"dec\"\n",
    "]"
   ]
  },
  {
   "cell_type": "markdown",
   "metadata": {},
   "source": [
    "# Replicate the steps of parallel bilby"
   ]
  },
  {
   "cell_type": "markdown",
   "metadata": {},
   "source": [
    "### Load the datadump"
   ]
  },
  {
   "cell_type": "code",
   "execution_count": 2,
   "metadata": {},
   "outputs": [],
   "source": [
    "def extract_injection_from_datadump(datadump_file: str,\n",
    "                                    verbose: bool=False):\n",
    "    \n",
    "    print(f\"Extracting the injection data from data file: {datadump_file}\")\n",
    "    \n",
    "    # Open and load\n",
    "    with open(datadump_file, \"rb\") as f:\n",
    "        data = pickle.load(f)\n",
    "        \n",
    "        print(data.keys())\n",
    "        ifo_list = data[\"ifo_list\"]\n",
    "        injection_parameters = data[\"injection_parameters\"]\n",
    "    \n",
    "    # Save info for each ifo\n",
    "    for ifo in ifo_list:\n",
    "        # Get the strain\n",
    "        strain_data = ifo.strain_data # InterferometerStrainData\n",
    "        _frequency_domain_strain = strain_data._frequency_domain_strain\n",
    "        _times_and_frequencies = strain_data._times_and_frequencies # CoupledTimeAndFrequencySeries object\n",
    "        \n",
    "        freqs = _times_and_frequencies.frequency_array\n",
    "        real_strain = _frequency_domain_strain.real\n",
    "        imag_strain = _frequency_domain_strain.imag\n",
    "        \n",
    "        # Get the psd values\n",
    "        psd_values = ifo.power_spectral_density._PowerSpectralDensity__power_spectral_density_interpolated(freqs)\n",
    "        \n",
    "        # Assert all have same length\n",
    "        assert len(freqs) == len(real_strain) == len(imag_strain) == len(psd_values), \"Some shape mismatch\"\n",
    "            \n",
    "        print(f\"Saving {ifo} data to file\")\n",
    "        np.savez(f\"{ifo.name}_data.npz\", freqs=freqs, real_strain=real_strain, imag_strain=imag_strain, psd_values=psd_values)\n",
    "        \n",
    "    # Save the injection parameters\n",
    "    with open(f\"injection_parameters.pkl\", \"wb\") as f:\n",
    "        pickle.dump(injection_parameters, f)\n",
    "        \n",
    "    return "
   ]
  },
  {
   "cell_type": "code",
   "execution_count": 3,
   "metadata": {},
   "outputs": [
    {
     "name": "stdout",
     "output_type": "stream",
     "text": [
      "Extracting the injection data from data file: ../11d_runs/outdir/out_bbh_0/data/bbh_0_data_dump.pickle\n",
      "dict_keys(['waveform_generator', 'ifo_list', 'prior_file', 'args', 'data_dump_file', 'meta_data', 'injection_parameters'])\n",
      "Saving Interferometer(name='H1', power_spectral_density=PowerSpectralDensity(psd_file='../psds/psd.txt', asd_file='None'), minimum_frequency=20.0, maximum_frequency=2048.0, length=4.0, latitude=46.45514666666667, longitude=-119.4076571388889, elevation=142.554, xarm_azimuth=125.9994, yarm_azimuth=215.9994, xarm_tilt=-0.0006195, yarm_tilt=1.25e-05) data to file\n",
      "Saving Interferometer(name='L1', power_spectral_density=PowerSpectralDensity(psd_file='../psds/psd.txt', asd_file='None'), minimum_frequency=20.0, maximum_frequency=2048.0, length=4.0, latitude=30.562894333333332, longitude=-90.77424038888887, elevation=-6.574, xarm_azimuth=197.7165, yarm_azimuth=287.7165, xarm_tilt=-0.0003121, yarm_tilt=-0.0006107) data to file\n",
      "Saving Interferometer(name='V1', power_spectral_density=PowerSpectralDensity(psd_file='../psds/psd_virgo.txt', asd_file='None'), minimum_frequency=20.0, maximum_frequency=2048.0, length=3.0, latitude=43.631414472222225, longitude=10.504496611111112, elevation=51.884, xarm_azimuth=70.56740000000002, yarm_azimuth=160.5674, xarm_tilt=0.0, yarm_tilt=0.0) data to file\n"
     ]
    }
   ],
   "source": [
    "datadump_file = \"../11d_runs/outdir/out_bbh_0/data/bbh_0_data_dump.pickle\"\n",
    "extract_injection_from_datadump(datadump_file=datadump_file, verbose=True)"
   ]
  },
  {
   "cell_type": "markdown",
   "metadata": {},
   "source": [
    "### Ifos"
   ]
  },
  {
   "cell_type": "code",
   "execution_count": null,
   "metadata": {},
   "outputs": [],
   "source": []
  },
  {
   "cell_type": "markdown",
   "metadata": {},
   "source": [
    "### Likelihood\n"
   ]
  },
  {
   "cell_type": "code",
   "execution_count": 4,
   "metadata": {},
   "outputs": [
    {
     "ename": "NameError",
     "evalue": "name 'ifo_list' is not defined",
     "output_type": "error",
     "traceback": [
      "\u001b[0;31m---------------------------------------------------------------------------\u001b[0m",
      "\u001b[0;31mNameError\u001b[0m                                 Traceback (most recent call last)",
      "Cell \u001b[0;32mIn[4], line 2\u001b[0m\n\u001b[1;32m      1\u001b[0m likelihood_kwargs \u001b[39m=\u001b[39m \u001b[39mdict\u001b[39m(\n\u001b[0;32m----> 2\u001b[0m     interferometers\u001b[39m=\u001b[39mifo_list,\n\u001b[1;32m      3\u001b[0m     waveform_generator\u001b[39m=\u001b[39mwaveform_generator,\n\u001b[1;32m      4\u001b[0m     priors\u001b[39m=\u001b[39mpriors,\n\u001b[1;32m      5\u001b[0m     phase_marginalization\u001b[39m=\u001b[39margs\u001b[39m.\u001b[39mphase_marginalization,\n\u001b[1;32m      6\u001b[0m     distance_marginalization\u001b[39m=\u001b[39margs\u001b[39m.\u001b[39mdistance_marginalization,\n\u001b[1;32m      7\u001b[0m     distance_marginalization_lookup_table\u001b[39m=\u001b[39margs\u001b[39m.\u001b[39mdistance_marginalization_lookup_table,\n\u001b[1;32m      8\u001b[0m     time_marginalization\u001b[39m=\u001b[39margs\u001b[39m.\u001b[39mtime_marginalization,\n\u001b[1;32m      9\u001b[0m     reference_frame\u001b[39m=\u001b[39margs\u001b[39m.\u001b[39mreference_frame,\n\u001b[1;32m     10\u001b[0m     time_reference\u001b[39m=\u001b[39margs\u001b[39m.\u001b[39mtime_reference,\n\u001b[1;32m     11\u001b[0m )\n",
      "\u001b[0;31mNameError\u001b[0m: name 'ifo_list' is not defined"
     ]
    }
   ],
   "source": [
    "likelihood_kwargs = dict(\n",
    "    interferometers=ifo_list,\n",
    "    waveform_generator=waveform_generator,\n",
    "    priors=priors,\n",
    "    phase_marginalization=args.phase_marginalization,\n",
    "    distance_marginalization=args.distance_marginalization,\n",
    "    distance_marginalization_lookup_table=args.distance_marginalization_lookup_table,\n",
    "    time_marginalization=args.time_marginalization,\n",
    "    reference_frame=args.reference_frame,\n",
    "    time_reference=args.time_reference,\n",
    ")"
   ]
  },
  {
   "cell_type": "code",
   "execution_count": null,
   "metadata": {},
   "outputs": [
    {
     "name": "stderr",
     "output_type": "stream",
     "text": [
      "/home/urash/twouters/miniconda3/envs/parallel_bilby/lib/python3.10/site-packages/gwpy/time/__init__.py:36: UserWarning: Wswiglal-redir-stdio:\n",
      "\n",
      "SWIGLAL standard output/error redirection is enabled in IPython.\n",
      "This may lead to performance penalties. To disable locally, use:\n",
      "\n",
      "with lal.no_swig_redirect_standard_output_error():\n",
      "    ...\n",
      "\n",
      "To disable globally, use:\n",
      "\n",
      "lal.swig_redirect_standard_output_error(True)\n",
      "\n",
      "Note however that this will likely lead to error messages from\n",
      "LAL functions being either misdirected or lost when called from\n",
      "Jupyter notebooks.\n",
      "\n",
      "To suppress this warning, use:\n",
      "\n",
      "import warnings\n",
      "warnings.filterwarnings(\"ignore\", \"Wswiglal-redir-stdio\")\n",
      "import lal\n",
      "\n",
      "  from lal import LIGOTimeGPS\n",
      "15:30 bilby_pipe WARNING : You do not have nds2 (python-nds2-client) installed. You may  experience problems accessing interferometer data.\n",
      "15:30 bilby_pipe WARNING : You do not have LDAStools.frameCPP (python-ldas-tools-framecpp) installed. You may experience problems accessing interferometer data.\n"
     ]
    }
   ],
   "source": [
    "from parallel_bilby.analysis.likelihood import setup_likelihood"
   ]
  },
  {
   "cell_type": "code",
   "execution_count": null,
   "metadata": {},
   "outputs": [
    {
     "name": "stderr",
     "output_type": "stream",
     "text": [
      "15:30 bilby INFO    : Initialise likelihood <class 'bilby.gw.likelihood.base.GravitationalWaveTransient'> with kwargs: \n",
      "{'interferometers': [Interferometer(name='H1', power_spectral_density=PowerSpectralDensity(psd_file='../psds/psd.txt', asd_file='None'), minimum_frequency=20.0, maximum_frequency=2048.0, length=4.0, latitude=46.45514666666667, longitude=-119.4076571388889, elevation=142.554, xarm_azimuth=125.9994, yarm_azimuth=215.9994, xarm_tilt=-0.0006195, yarm_tilt=1.25e-05), Interferometer(name='L1', power_spectral_density=PowerSpectralDensity(psd_file='../psds/psd.txt', asd_file='None'), minimum_frequency=20.0, maximum_frequency=2048.0, length=4.0, latitude=30.562894333333332, longitude=-90.77424038888887, elevation=-6.574, xarm_azimuth=197.7165, yarm_azimuth=287.7165, xarm_tilt=-0.0003121, yarm_tilt=-0.0006107), Interferometer(name='V1', power_spectral_density=PowerSpectralDensity(psd_file='../psds/psd_virgo.txt', asd_file='None'), minimum_frequency=20.0, maximum_frequency=2048.0, length=3.0, latitude=43.631414472222225, longitude=10.504496611111112, elevation=51.884, xarm_azimuth=70.56740000000002, yarm_azimuth=160.5674, xarm_tilt=0.0, yarm_tilt=0.0)], 'waveform_generator': LALCBCWaveformGenerator(duration=4.0, sampling_frequency=4096, start_time=-2.0, frequency_domain_source_model=lal_binary_black_hole, time_domain_source_model=None, parameter_conversion=convert_to_lal_binary_black_hole_parameters, waveform_arguments={'reference_frequency': 20.0, 'waveform_approximant': 'IMRPhenomD', 'minimum_frequency': 20.0, 'maximum_frequency': 2048.0, 'catch_waveform_errors': True, 'pn_spin_order': -1, 'pn_tidal_order': -1, 'pn_phase_order': -1, 'pn_amplitude_order': 0, 'mode_array': None}), 'priors': {'chirp_mass': Uniform(minimum=25, maximum=100, name='chirp_mass', latex_label='$\\\\mathcal{M}$', unit=None, boundary=None), 'mass_ratio': Uniform(minimum=0.125, maximum=1, name='mass_ratio', latex_label='$q$', unit=None, boundary=None), 'chi_1': Uniform(minimum=-0.99, maximum=0.99, name='chi_1', latex_label='$\\\\chi_1$', unit=None, boundary=None), 'chi_2': Uniform(minimum=-0.99, maximum=0.99, name='chi_2', latex_label='$\\\\chi_2$', unit=None, boundary=None), 'luminosity_distance': Uniform(minimum=500.0, maximum=4000.0, name='luminosity_distance', latex_label='$d_L$', unit=None, boundary=None), 'geocent_time': Uniform(minimum=-0.01, maximum=0.01, name='geocent_time', latex_label='$t_c$', unit=None, boundary=None), 'phase': Uniform(minimum=0, maximum=6.283185307179586, name='phase', latex_label='$\\\\phi$', unit=None, boundary=None), 'theta_jn': Uniform(minimum=0, maximum=6.283185307179586, name='theta_jn', latex_label='$\\\\theta_{JN}$', unit=None, boundary=None), 'psi': Uniform(minimum=0, maximum=3.141592653589793, name='psi', latex_label='$\\\\psi$', unit=None, boundary=None), 'dec': Uniform(minimum=0, maximum=6.283185307179586, name='dec', latex_label='$\\\\mathrm{DEC}$', unit=None, boundary=None), 'ra': Uniform(minimum=0, maximum=6.283185307179586, name='ra', latex_label='$\\\\mathrm{RA}$', unit=None, boundary=None)}, 'phase_marginalization': False, 'distance_marginalization': False, 'distance_marginalization_lookup_table': None, 'time_marginalization': False, 'reference_frame': 'sky', 'time_reference': 'geocent'}\n"
     ]
    }
   ],
   "source": [
    "likelihood = setup_likelihood(\n",
    "            interferometers=ifo_list,\n",
    "            waveform_generator=waveform_generator,\n",
    "            priors=priors,\n",
    "            args=args,\n",
    "        )"
   ]
  },
  {
   "cell_type": "markdown",
   "metadata": {},
   "source": [
    "## TODO: Evaluate the likelihood on the jim samples"
   ]
  },
  {
   "cell_type": "code",
   "execution_count": null,
   "metadata": {},
   "outputs": [],
   "source": [
    "LOG_PRIOR_VALUE = -18.294883803860813\n",
    "\n",
    "jim_file = \"./working_3/jim/results_production.npz\"\n",
    "data = np.load(jim_file)\n",
    "chains = data[\"chains\"]\n",
    "chains = np.reshape(chains, (-1, chains.shape[-1]))\n",
    "log_prob = data[\"log_prob\"]\n",
    "log_prob = np.reshape(log_prob, (-1, ))\n",
    "\n",
    "jim_naming = [\"M_c\", \"q\", \"s1_z\", \"s2_z\", \"d_L\", \"t_c\", \"phase_c\", \"iota\", \"psi\", \"ra\", \"dec\"]\n",
    "\n",
    "# translating keys from bilby to jim\n",
    "translation = {\"chirp_mass\": \"M_c\",\n",
    "               \"mass_ratio\": \"q\",\n",
    "               \"chi_1\": \"s1_z\",\n",
    "                \"chi_2\": \"s2_z\",\n",
    "                \"luminosity_distance\": \"d_L\",\n",
    "                \"geocent_time\": \"t_c\",\n",
    "                \"dec\": \"dec\",\n",
    "                \"ra\": \"ra\",\n",
    "                \"theta_jn\": \"iota\",\n",
    "                \"psi\": \"psi\",\n",
    "                \"phase\": \"phase_c\",\n",
    "                \"geocent_time\": \"t_c\"\n",
    "               }\n",
    "\n",
    "bilby_keys = translation.keys()\n",
    "def get_jim_vals(idx):\n",
    "    \"\"\"Get the values as dictionary for bilby consumption at specific idx in the jim chains\"\"\"\n",
    "    new_vals = {}\n",
    "    for name in bilby_keys:\n",
    "        if name in translation:\n",
    "            new_vals[name] = chains[idx, jim_naming.index(translation[name])]\n",
    "        else:\n",
    "            raise ValueError(f\"Key {name} not found in translation\")\n",
    "        \n",
    "    return new_vals"
   ]
  },
  {
   "cell_type": "code",
   "execution_count": null,
   "metadata": {},
   "outputs": [
    {
     "name": "stdout",
     "output_type": "stream",
     "text": [
      "Thibeau: get params\n",
      "Thibeau: model_strain is\n",
      "{'plus': array([0.+0.j, 0.+0.j, 0.+0.j, ..., 0.+0.j, 0.+0.j, 0.+0.j]), 'cross': array([0.+0.j, 0.+0.j, 0.+0.j, ..., 0.+0.j, 0.+0.j, 0.+0.j])}\n",
      "Thibeau: get params\n",
      "Thibeau: model_strain is\n",
      "{'plus': array([0.+0.j, 0.+0.j, 0.+0.j, ..., 0.+0.j, 0.+0.j, 0.+0.j]), 'cross': array([0.+0.j, 0.+0.j, 0.+0.j, ..., 0.+0.j, 0.+0.j, 0.+0.j])}\n",
      "Thibeau: get params\n",
      "Thibeau: model_strain is\n",
      "{'plus': array([0.+0.j, 0.+0.j, 0.+0.j, ..., 0.+0.j, 0.+0.j, 0.+0.j]), 'cross': array([0.+0.j, 0.+0.j, 0.+0.j, ..., 0.+0.j, 0.+0.j, 0.+0.j])}\n",
      "Thibeau: get params\n",
      "Thibeau: model_strain is\n",
      "{'plus': array([0.+0.j, 0.+0.j, 0.+0.j, ..., 0.+0.j, 0.+0.j, 0.+0.j]), 'cross': array([0.+0.j, 0.+0.j, 0.+0.j, ..., 0.+0.j, 0.+0.j, 0.+0.j])}\n",
      "Thibeau: get params\n",
      "Thibeau: model_strain is\n",
      "{'plus': array([0.+0.j, 0.+0.j, 0.+0.j, ..., 0.+0.j, 0.+0.j, 0.+0.j]), 'cross': array([0.+0.j, 0.+0.j, 0.+0.j, ..., 0.+0.j, 0.+0.j, 0.+0.j])}\n",
      "Thibeau: get params\n",
      "Thibeau: model_strain is\n",
      "{'plus': array([0.+0.j, 0.+0.j, 0.+0.j, ..., 0.+0.j, 0.+0.j, 0.+0.j]), 'cross': array([0.+0.j, 0.+0.j, 0.+0.j, ..., 0.+0.j, 0.+0.j, 0.+0.j])}\n",
      "Thibeau: get params\n",
      "Thibeau: model_strain is\n",
      "{'plus': array([0.+0.j, 0.+0.j, 0.+0.j, ..., 0.+0.j, 0.+0.j, 0.+0.j]), 'cross': array([0.+0.j, 0.+0.j, 0.+0.j, ..., 0.+0.j, 0.+0.j, 0.+0.j])}\n",
      "Thibeau: get params\n",
      "Thibeau: get params\n",
      "Thibeau: get params\n",
      "Thibeau: model_strain is\n",
      "{'plus': array([0.+0.j, 0.+0.j, 0.+0.j, ..., 0.+0.j, 0.+0.j, 0.+0.j]), 'cross': array([0.+0.j, 0.+0.j, 0.+0.j, ..., 0.+0.j, 0.+0.j, 0.+0.j])}\n",
      "Thibeau: get params\n",
      "Thibeau: model_strain is\n",
      "{'plus': array([0.+0.j, 0.+0.j, 0.+0.j, ..., 0.+0.j, 0.+0.j, 0.+0.j]), 'cross': array([0.+0.j, 0.+0.j, 0.+0.j, ..., 0.+0.j, 0.+0.j, 0.+0.j])}\n",
      "Thibeau: get params\n",
      "Thibeau: model_strain is\n",
      "{'plus': array([0.+0.j, 0.+0.j, 0.+0.j, ..., 0.+0.j, 0.+0.j, 0.+0.j]), 'cross': array([0.+0.j, 0.+0.j, 0.+0.j, ..., 0.+0.j, 0.+0.j, 0.+0.j])}\n",
      "Thibeau: get params\n",
      "Thibeau: model_strain is\n",
      "{'plus': array([0.+0.j, 0.+0.j, 0.+0.j, ..., 0.+0.j, 0.+0.j, 0.+0.j]), 'cross': array([0.+0.j, 0.+0.j, 0.+0.j, ..., 0.+0.j, 0.+0.j, 0.+0.j])}\n",
      "Thibeau: get params\n",
      "Thibeau: model_strain is\n",
      "{'plus': array([0.+0.j, 0.+0.j, 0.+0.j, ..., 0.+0.j, 0.+0.j, 0.+0.j]), 'cross': array([0.+0.j, 0.+0.j, 0.+0.j, ..., 0.+0.j, 0.+0.j, 0.+0.j])}\n",
      "Thibeau: get params\n",
      "Thibeau: get params\n",
      "Thibeau: model_strain is\n",
      "{'plus': array([0.+0.j, 0.+0.j, 0.+0.j, ..., 0.+0.j, 0.+0.j, 0.+0.j]), 'cross': array([0.+0.j, 0.+0.j, 0.+0.j, ..., 0.+0.j, 0.+0.j, 0.+0.j])}\n",
      "Thibeau: get params\n",
      "Thibeau: model_strain is\n",
      "{'plus': array([0.+0.j, 0.+0.j, 0.+0.j, ..., 0.+0.j, 0.+0.j, 0.+0.j]), 'cross': array([0.+0.j, 0.+0.j, 0.+0.j, ..., 0.+0.j, 0.+0.j, 0.+0.j])}\n",
      "Thibeau: get params\n",
      "Thibeau: model_strain is\n",
      "{'plus': array([0.+0.j, 0.+0.j, 0.+0.j, ..., 0.+0.j, 0.+0.j, 0.+0.j]), 'cross': array([0.+0.j, 0.+0.j, 0.+0.j, ..., 0.+0.j, 0.+0.j, 0.+0.j])}\n",
      "Thibeau: get params\n",
      "Thibeau: model_strain is\n",
      "{'plus': array([0.+0.j, 0.+0.j, 0.+0.j, ..., 0.+0.j, 0.+0.j, 0.+0.j]), 'cross': array([0.+0.j, 0.+0.j, 0.+0.j, ..., 0.+0.j, 0.+0.j, 0.+0.j])}\n",
      "Thibeau: get params\n",
      "Thibeau: model_strain is\n",
      "{'plus': array([0.+0.j, 0.+0.j, 0.+0.j, ..., 0.+0.j, 0.+0.j, 0.+0.j]), 'cross': array([0.+0.j, 0.+0.j, 0.+0.j, ..., 0.+0.j, 0.+0.j, 0.+0.j])}\n",
      "Thibeau: get params\n",
      "Thibeau: model_strain is\n",
      "{'plus': array([0.+0.j, 0.+0.j, 0.+0.j, ..., 0.+0.j, 0.+0.j, 0.+0.j]), 'cross': array([0.+0.j, 0.+0.j, 0.+0.j, ..., 0.+0.j, 0.+0.j, 0.+0.j])}\n",
      "Thibeau: get params\n",
      "Thibeau: model_strain is\n",
      "{'plus': array([0.+0.j, 0.+0.j, 0.+0.j, ..., 0.+0.j, 0.+0.j, 0.+0.j]), 'cross': array([0.+0.j, 0.+0.j, 0.+0.j, ..., 0.+0.j, 0.+0.j, 0.+0.j])}\n",
      "Thibeau: get params\n",
      "Thibeau: model_strain is\n",
      "{'plus': array([0.+0.j, 0.+0.j, 0.+0.j, ..., 0.+0.j, 0.+0.j, 0.+0.j]), 'cross': array([0.+0.j, 0.+0.j, 0.+0.j, ..., 0.+0.j, 0.+0.j, 0.+0.j])}\n",
      "Thibeau: get params\n",
      "Thibeau: get params\n",
      "Thibeau: model_strain is\n",
      "{'plus': array([0.+0.j, 0.+0.j, 0.+0.j, ..., 0.+0.j, 0.+0.j, 0.+0.j]), 'cross': array([0.+0.j, 0.+0.j, 0.+0.j, ..., 0.+0.j, 0.+0.j, 0.+0.j])}\n",
      "Thibeau: get params\n",
      "Thibeau: model_strain is\n",
      "{'plus': array([0.+0.j, 0.+0.j, 0.+0.j, ..., 0.+0.j, 0.+0.j, 0.+0.j]), 'cross': array([0.+0.j, 0.+0.j, 0.+0.j, ..., 0.+0.j, 0.+0.j, 0.+0.j])}\n",
      "Thibeau: get params\n",
      "Thibeau: model_strain is\n",
      "{'plus': array([0.+0.j, 0.+0.j, 0.+0.j, ..., 0.+0.j, 0.+0.j, 0.+0.j]), 'cross': array([0.+0.j, 0.+0.j, 0.+0.j, ..., 0.+0.j, 0.+0.j, 0.+0.j])}\n",
      "Thibeau: get params\n",
      "Thibeau: model_strain is\n",
      "{'plus': array([0.+0.j, 0.+0.j, 0.+0.j, ..., 0.+0.j, 0.+0.j, 0.+0.j]), 'cross': array([0.+0.j, 0.+0.j, 0.+0.j, ..., 0.+0.j, 0.+0.j, 0.+0.j])}\n",
      "Thibeau: get params\n",
      "Thibeau: model_strain is\n",
      "{'plus': array([0.+0.j, 0.+0.j, 0.+0.j, ..., 0.+0.j, 0.+0.j, 0.+0.j]), 'cross': array([0.+0.j, 0.+0.j, 0.+0.j, ..., 0.+0.j, 0.+0.j, 0.+0.j])}\n",
      "Thibeau: get params\n",
      "Thibeau: get params\n",
      "Thibeau: model_strain is\n",
      "{'plus': array([0.+0.j, 0.+0.j, 0.+0.j, ..., 0.+0.j, 0.+0.j, 0.+0.j]), 'cross': array([0.+0.j, 0.+0.j, 0.+0.j, ..., 0.+0.j, 0.+0.j, 0.+0.j])}\n",
      "Thibeau: get params\n",
      "Thibeau: model_strain is\n",
      "{'plus': array([0.+0.j, 0.+0.j, 0.+0.j, ..., 0.+0.j, 0.+0.j, 0.+0.j]), 'cross': array([0.+0.j, 0.+0.j, 0.+0.j, ..., 0.+0.j, 0.+0.j, 0.+0.j])}\n",
      "Thibeau: get params\n",
      "Thibeau: get params\n",
      "Thibeau: get params\n",
      "Thibeau: model_strain is\n",
      "{'plus': array([0.+0.j, 0.+0.j, 0.+0.j, ..., 0.+0.j, 0.+0.j, 0.+0.j]), 'cross': array([0.+0.j, 0.+0.j, 0.+0.j, ..., 0.+0.j, 0.+0.j, 0.+0.j])}\n",
      "Thibeau: get params\n",
      "Thibeau: get params\n",
      "Thibeau: model_strain is\n",
      "{'plus': array([0.+0.j, 0.+0.j, 0.+0.j, ..., 0.+0.j, 0.+0.j, 0.+0.j]), 'cross': array([0.+0.j, 0.+0.j, 0.+0.j, ..., 0.+0.j, 0.+0.j, 0.+0.j])}\n",
      "Thibeau: get params\n",
      "Thibeau: get params\n",
      "Thibeau: model_strain is\n",
      "{'plus': array([0.+0.j, 0.+0.j, 0.+0.j, ..., 0.+0.j, 0.+0.j, 0.+0.j]), 'cross': array([0.+0.j, 0.+0.j, 0.+0.j, ..., 0.+0.j, 0.+0.j, 0.+0.j])}\n",
      "Thibeau: get params\n",
      "Thibeau: model_strain is\n",
      "{'plus': array([0.+0.j, 0.+0.j, 0.+0.j, ..., 0.+0.j, 0.+0.j, 0.+0.j]), 'cross': array([0.+0.j, 0.+0.j, 0.+0.j, ..., 0.+0.j, 0.+0.j, 0.+0.j])}\n",
      "Thibeau: get params\n",
      "Thibeau: model_strain is\n",
      "{'plus': array([0.+0.j, 0.+0.j, 0.+0.j, ..., 0.+0.j, 0.+0.j, 0.+0.j]), 'cross': array([0.+0.j, 0.+0.j, 0.+0.j, ..., 0.+0.j, 0.+0.j, 0.+0.j])}\n",
      "Thibeau: get params\n",
      "Thibeau: model_strain is\n",
      "{'plus': array([0.+0.j, 0.+0.j, 0.+0.j, ..., 0.+0.j, 0.+0.j, 0.+0.j]), 'cross': array([0.+0.j, 0.+0.j, 0.+0.j, ..., 0.+0.j, 0.+0.j, 0.+0.j])}\n",
      "Thibeau: get params\n",
      "Thibeau: get params\n",
      "Thibeau: get params\n",
      "Thibeau: get params\n",
      "Thibeau: model_strain is\n",
      "{'plus': array([0.+0.j, 0.+0.j, 0.+0.j, ..., 0.+0.j, 0.+0.j, 0.+0.j]), 'cross': array([0.+0.j, 0.+0.j, 0.+0.j, ..., 0.+0.j, 0.+0.j, 0.+0.j])}\n",
      "Thibeau: get params\n",
      "Thibeau: get params\n",
      "Thibeau: get params\n",
      "Thibeau: model_strain is\n",
      "{'plus': array([0.+0.j, 0.+0.j, 0.+0.j, ..., 0.+0.j, 0.+0.j, 0.+0.j]), 'cross': array([0.+0.j, 0.+0.j, 0.+0.j, ..., 0.+0.j, 0.+0.j, 0.+0.j])}\n",
      "Thibeau: get params\n",
      "Thibeau: model_strain is\n",
      "{'plus': array([0.+0.j, 0.+0.j, 0.+0.j, ..., 0.+0.j, 0.+0.j, 0.+0.j]), 'cross': array([0.+0.j, 0.+0.j, 0.+0.j, ..., 0.+0.j, 0.+0.j, 0.+0.j])}\n",
      "Thibeau: get params\n",
      "Thibeau: model_strain is\n",
      "{'plus': array([0.+0.j, 0.+0.j, 0.+0.j, ..., 0.+0.j, 0.+0.j, 0.+0.j]), 'cross': array([0.+0.j, 0.+0.j, 0.+0.j, ..., 0.+0.j, 0.+0.j, 0.+0.j])}\n",
      "Thibeau: get params\n",
      "Thibeau: model_strain is\n",
      "{'plus': array([0.+0.j, 0.+0.j, 0.+0.j, ..., 0.+0.j, 0.+0.j, 0.+0.j]), 'cross': array([0.+0.j, 0.+0.j, 0.+0.j, ..., 0.+0.j, 0.+0.j, 0.+0.j])}\n",
      "Thibeau: get params\n",
      "Thibeau: model_strain is\n",
      "{'plus': array([0.+0.j, 0.+0.j, 0.+0.j, ..., 0.+0.j, 0.+0.j, 0.+0.j]), 'cross': array([0.+0.j, 0.+0.j, 0.+0.j, ..., 0.+0.j, 0.+0.j, 0.+0.j])}\n",
      "Thibeau: get params\n",
      "Thibeau: model_strain is\n",
      "{'plus': array([0.+0.j, 0.+0.j, 0.+0.j, ..., 0.+0.j, 0.+0.j, 0.+0.j]), 'cross': array([0.+0.j, 0.+0.j, 0.+0.j, ..., 0.+0.j, 0.+0.j, 0.+0.j])}\n",
      "Thibeau: get params\n",
      "Thibeau: get params\n",
      "Thibeau: get params\n",
      "Thibeau: model_strain is\n",
      "{'plus': array([0.+0.j, 0.+0.j, 0.+0.j, ..., 0.+0.j, 0.+0.j, 0.+0.j]), 'cross': array([0.+0.j, 0.+0.j, 0.+0.j, ..., 0.+0.j, 0.+0.j, 0.+0.j])}\n",
      "Thibeau: get params\n",
      "Thibeau: model_strain is\n",
      "{'plus': array([0.+0.j, 0.+0.j, 0.+0.j, ..., 0.+0.j, 0.+0.j, 0.+0.j]), 'cross': array([0.+0.j, 0.+0.j, 0.+0.j, ..., 0.+0.j, 0.+0.j, 0.+0.j])}\n",
      "Thibeau: get params\n",
      "Thibeau: model_strain is\n",
      "{'plus': array([0.+0.j, 0.+0.j, 0.+0.j, ..., 0.+0.j, 0.+0.j, 0.+0.j]), 'cross': array([0.+0.j, 0.+0.j, 0.+0.j, ..., 0.+0.j, 0.+0.j, 0.+0.j])}\n",
      "Thibeau: get params\n",
      "Thibeau: model_strain is\n",
      "{'plus': array([0.+0.j, 0.+0.j, 0.+0.j, ..., 0.+0.j, 0.+0.j, 0.+0.j]), 'cross': array([0.+0.j, 0.+0.j, 0.+0.j, ..., 0.+0.j, 0.+0.j, 0.+0.j])}\n",
      "Thibeau: get params\n",
      "Thibeau: get params\n",
      "Thibeau: get params\n",
      "Thibeau: get params\n",
      "Thibeau: get params\n",
      "Thibeau: get params\n",
      "Thibeau: model_strain is\n",
      "{'plus': array([0.+0.j, 0.+0.j, 0.+0.j, ..., 0.+0.j, 0.+0.j, 0.+0.j]), 'cross': array([0.+0.j, 0.+0.j, 0.+0.j, ..., 0.+0.j, 0.+0.j, 0.+0.j])}\n",
      "Thibeau: get params\n",
      "Thibeau: model_strain is\n",
      "{'plus': array([0.+0.j, 0.+0.j, 0.+0.j, ..., 0.+0.j, 0.+0.j, 0.+0.j]), 'cross': array([0.+0.j, 0.+0.j, 0.+0.j, ..., 0.+0.j, 0.+0.j, 0.+0.j])}\n",
      "Thibeau: get params\n",
      "Thibeau: model_strain is\n",
      "{'plus': array([0.+0.j, 0.+0.j, 0.+0.j, ..., 0.+0.j, 0.+0.j, 0.+0.j]), 'cross': array([0.+0.j, 0.+0.j, 0.+0.j, ..., 0.+0.j, 0.+0.j, 0.+0.j])}\n",
      "Thibeau: get params\n",
      "Thibeau: model_strain is\n",
      "{'plus': array([0.+0.j, 0.+0.j, 0.+0.j, ..., 0.+0.j, 0.+0.j, 0.+0.j]), 'cross': array([0.+0.j, 0.+0.j, 0.+0.j, ..., 0.+0.j, 0.+0.j, 0.+0.j])}\n",
      "Thibeau: get params\n",
      "Thibeau: model_strain is\n",
      "{'plus': array([0.+0.j, 0.+0.j, 0.+0.j, ..., 0.+0.j, 0.+0.j, 0.+0.j]), 'cross': array([0.+0.j, 0.+0.j, 0.+0.j, ..., 0.+0.j, 0.+0.j, 0.+0.j])}\n",
      "Thibeau: get params\n",
      "Thibeau: get params\n",
      "Thibeau: model_strain is\n",
      "{'plus': array([0.+0.j, 0.+0.j, 0.+0.j, ..., 0.+0.j, 0.+0.j, 0.+0.j]), 'cross': array([0.+0.j, 0.+0.j, 0.+0.j, ..., 0.+0.j, 0.+0.j, 0.+0.j])}\n",
      "Thibeau: get params\n",
      "Thibeau: model_strain is\n",
      "{'plus': array([0.+0.j, 0.+0.j, 0.+0.j, ..., 0.+0.j, 0.+0.j, 0.+0.j]), 'cross': array([0.+0.j, 0.+0.j, 0.+0.j, ..., 0.+0.j, 0.+0.j, 0.+0.j])}\n",
      "Thibeau: get params\n",
      "Thibeau: model_strain is\n",
      "{'plus': array([0.+0.j, 0.+0.j, 0.+0.j, ..., 0.+0.j, 0.+0.j, 0.+0.j]), 'cross': array([0.+0.j, 0.+0.j, 0.+0.j, ..., 0.+0.j, 0.+0.j, 0.+0.j])}\n",
      "Thibeau: get params\n",
      "Thibeau: get params\n",
      "Thibeau: model_strain is\n",
      "{'plus': array([0.+0.j, 0.+0.j, 0.+0.j, ..., 0.+0.j, 0.+0.j, 0.+0.j]), 'cross': array([0.+0.j, 0.+0.j, 0.+0.j, ..., 0.+0.j, 0.+0.j, 0.+0.j])}\n",
      "Thibeau: get params\n",
      "Thibeau: model_strain is\n",
      "{'plus': array([0.+0.j, 0.+0.j, 0.+0.j, ..., 0.+0.j, 0.+0.j, 0.+0.j]), 'cross': array([0.+0.j, 0.+0.j, 0.+0.j, ..., 0.+0.j, 0.+0.j, 0.+0.j])}\n",
      "Thibeau: get params\n",
      "Thibeau: model_strain is\n",
      "{'plus': array([0.+0.j, 0.+0.j, 0.+0.j, ..., 0.+0.j, 0.+0.j, 0.+0.j]), 'cross': array([0.+0.j, 0.+0.j, 0.+0.j, ..., 0.+0.j, 0.+0.j, 0.+0.j])}\n",
      "Thibeau: get params\n",
      "Thibeau: model_strain is\n",
      "{'plus': array([0.+0.j, 0.+0.j, 0.+0.j, ..., 0.+0.j, 0.+0.j, 0.+0.j]), 'cross': array([0.+0.j, 0.+0.j, 0.+0.j, ..., 0.+0.j, 0.+0.j, 0.+0.j])}\n",
      "Thibeau: get params\n",
      "Thibeau: model_strain is\n",
      "{'plus': array([0.+0.j, 0.+0.j, 0.+0.j, ..., 0.+0.j, 0.+0.j, 0.+0.j]), 'cross': array([0.+0.j, 0.+0.j, 0.+0.j, ..., 0.+0.j, 0.+0.j, 0.+0.j])}\n",
      "Thibeau: get params\n",
      "Thibeau: model_strain is\n",
      "{'plus': array([0.+0.j, 0.+0.j, 0.+0.j, ..., 0.+0.j, 0.+0.j, 0.+0.j]), 'cross': array([0.+0.j, 0.+0.j, 0.+0.j, ..., 0.+0.j, 0.+0.j, 0.+0.j])}\n",
      "Thibeau: get params\n",
      "Thibeau: model_strain is\n",
      "{'plus': array([0.+0.j, 0.+0.j, 0.+0.j, ..., 0.+0.j, 0.+0.j, 0.+0.j]), 'cross': array([0.+0.j, 0.+0.j, 0.+0.j, ..., 0.+0.j, 0.+0.j, 0.+0.j])}\n",
      "Thibeau: get params\n",
      "Thibeau: model_strain is\n",
      "{'plus': array([0.+0.j, 0.+0.j, 0.+0.j, ..., 0.+0.j, 0.+0.j, 0.+0.j]), 'cross': array([0.+0.j, 0.+0.j, 0.+0.j, ..., 0.+0.j, 0.+0.j, 0.+0.j])}\n",
      "Thibeau: get params\n",
      "Thibeau: model_strain is\n",
      "{'plus': array([0.+0.j, 0.+0.j, 0.+0.j, ..., 0.+0.j, 0.+0.j, 0.+0.j]), 'cross': array([0.+0.j, 0.+0.j, 0.+0.j, ..., 0.+0.j, 0.+0.j, 0.+0.j])}\n",
      "Thibeau: get params\n",
      "Thibeau: model_strain is\n",
      "{'plus': array([0.+0.j, 0.+0.j, 0.+0.j, ..., 0.+0.j, 0.+0.j, 0.+0.j]), 'cross': array([0.+0.j, 0.+0.j, 0.+0.j, ..., 0.+0.j, 0.+0.j, 0.+0.j])}\n",
      "Thibeau: get params\n",
      "Thibeau: model_strain is\n",
      "{'plus': array([0.+0.j, 0.+0.j, 0.+0.j, ..., 0.+0.j, 0.+0.j, 0.+0.j]), 'cross': array([0.+0.j, 0.+0.j, 0.+0.j, ..., 0.+0.j, 0.+0.j, 0.+0.j])}\n",
      "Thibeau: get params\n",
      "Thibeau: model_strain is\n",
      "{'plus': array([0.+0.j, 0.+0.j, 0.+0.j, ..., 0.+0.j, 0.+0.j, 0.+0.j]), 'cross': array([0.+0.j, 0.+0.j, 0.+0.j, ..., 0.+0.j, 0.+0.j, 0.+0.j])}\n",
      "Thibeau: get params\n",
      "Thibeau: model_strain is\n",
      "{'plus': array([0.+0.j, 0.+0.j, 0.+0.j, ..., 0.+0.j, 0.+0.j, 0.+0.j]), 'cross': array([0.+0.j, 0.+0.j, 0.+0.j, ..., 0.+0.j, 0.+0.j, 0.+0.j])}\n",
      "Thibeau: get params\n",
      "Thibeau: model_strain is\n",
      "{'plus': array([0.+0.j, 0.+0.j, 0.+0.j, ..., 0.+0.j, 0.+0.j, 0.+0.j]), 'cross': array([0.+0.j, 0.+0.j, 0.+0.j, ..., 0.+0.j, 0.+0.j, 0.+0.j])}\n",
      "Thibeau: get params\n",
      "Thibeau: get params\n",
      "Thibeau: get params\n",
      "Thibeau: get params\n",
      "Thibeau: get params\n",
      "Thibeau: get params\n",
      "Thibeau: model_strain is\n",
      "{'plus': array([0.+0.j, 0.+0.j, 0.+0.j, ..., 0.+0.j, 0.+0.j, 0.+0.j]), 'cross': array([0.+0.j, 0.+0.j, 0.+0.j, ..., 0.+0.j, 0.+0.j, 0.+0.j])}\n",
      "Thibeau: get params\n",
      "Thibeau: get params\n",
      "Thibeau: get params\n",
      "Thibeau: model_strain is\n",
      "{'plus': array([0.+0.j, 0.+0.j, 0.+0.j, ..., 0.+0.j, 0.+0.j, 0.+0.j]), 'cross': array([0.+0.j, 0.+0.j, 0.+0.j, ..., 0.+0.j, 0.+0.j, 0.+0.j])}\n",
      "Thibeau: get params\n",
      "Thibeau: model_strain is\n",
      "{'plus': array([0.+0.j, 0.+0.j, 0.+0.j, ..., 0.+0.j, 0.+0.j, 0.+0.j]), 'cross': array([0.+0.j, 0.+0.j, 0.+0.j, ..., 0.+0.j, 0.+0.j, 0.+0.j])}\n",
      "Thibeau: get params\n"
     ]
    }
   ],
   "source": [
    "idx_list = np.arange(0, 100, 1)\n",
    "\n",
    "bilby_L = []\n",
    "jim_L = []\n",
    "\n",
    "for idx in idx_list:\n",
    "    new_vals = get_jim_vals(idx)\n",
    "    likelihood.parameters.update(new_vals)\n",
    "    bilby_L.append(likelihood.log_likelihood())\n",
    "    jim_L.append(log_prob[idx])\n",
    "    \n",
    "bilby_L = np.array(bilby_L)\n",
    "jim_L = np.array(jim_L)\n",
    "diff = bilby_L - jim_L"
   ]
  },
  {
   "cell_type": "code",
   "execution_count": null,
   "metadata": {},
   "outputs": [
    {
     "name": "stdout",
     "output_type": "stream",
     "text": [
      "-44.456006325160075\n"
     ]
    }
   ],
   "source": [
    "print(np.mean(diff))"
   ]
  },
  {
   "cell_type": "markdown",
   "metadata": {},
   "source": [
    "# ==== To do ===="
   ]
  },
  {
   "cell_type": "markdown",
   "metadata": {},
   "source": [
    "## Setup"
   ]
  },
  {
   "cell_type": "code",
   "execution_count": null,
   "metadata": {},
   "outputs": [],
   "source": [
    "# plt.hist(bilby_L, bins = 20)\n",
    "# plt.hist(jim_L, bins = 20)\n",
    "# plt.show()"
   ]
  },
  {
   "cell_type": "code",
   "execution_count": null,
   "metadata": {},
   "outputs": [],
   "source": [
    "# plt.hist(diff, bins = 20)\n",
    "# plt.show()"
   ]
  },
  {
   "cell_type": "markdown",
   "metadata": {},
   "source": [
    "## Interferometers"
   ]
  },
  {
   "cell_type": "code",
   "execution_count": null,
   "metadata": {},
   "outputs": [],
   "source": [
    "# for ifo in ifos:\n",
    "#     # print(ifo.meta_data)\n",
    "#     print(ifo.strain_data.duration)\n",
    "#     break"
   ]
  },
  {
   "cell_type": "code",
   "execution_count": null,
   "metadata": {},
   "outputs": [],
   "source": [
    "# from bilby.gw.detector import Interferometer\n",
    "# from bilby.gw.detector.networks import InterferometerList"
   ]
  },
  {
   "cell_type": "code",
   "execution_count": null,
   "metadata": {},
   "outputs": [],
   "source": [
    "# # new_ifo = Interferometer()\n",
    "# new_ifos = InterferometerList([\"H1\", \"L1\", \"V1\"])\n",
    "# new_ifos"
   ]
  }
 ],
 "metadata": {
  "kernelspec": {
   "display_name": "Python 3",
   "language": "python",
   "name": "python3"
  },
  "language_info": {
   "codemirror_mode": {
    "name": "ipython",
    "version": 3
   },
   "file_extension": ".py",
   "mimetype": "text/x-python",
   "name": "python",
   "nbconvert_exporter": "python",
   "pygments_lexer": "ipython3",
   "version": "3.10.13"
  },
  "orig_nbformat": 4
 },
 "nbformat": 4,
 "nbformat_minor": 2
}
