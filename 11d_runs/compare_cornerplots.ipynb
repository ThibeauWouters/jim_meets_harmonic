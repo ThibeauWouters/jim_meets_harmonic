{
 "cells": [
  {
   "cell_type": "markdown",
   "metadata": {},
   "source": [
    "# Compare cornerplots"
   ]
  },
  {
   "cell_type": "markdown",
   "metadata": {},
   "source": [
    "Checking the posteriors between jim and bilby"
   ]
  },
  {
   "cell_type": "code",
   "execution_count": 6,
   "metadata": {},
   "outputs": [],
   "source": [
    "import os\n",
    "import numpy as np \n",
    "import json \n",
    "import matplotlib.pyplot as plt\n",
    "import corner\n",
    "import h5py"
   ]
  },
  {
   "cell_type": "code",
   "execution_count": 8,
   "metadata": {},
   "outputs": [
    {
     "ename": "FileNotFoundError",
     "evalue": "[Errno 2] No such file or directory: '/home/thibeau.wouters/projects/jim_meets_harmonic/11d_runs/working_1/bilby'",
     "output_type": "error",
     "traceback": [
      "\u001b[0;31m---------------------------------------------------------------------------\u001b[0m",
      "\u001b[0;31mFileNotFoundError\u001b[0m                         Traceback (most recent call last)",
      "Cell \u001b[0;32mIn[8], line 5\u001b[0m\n\u001b[1;32m      2\u001b[0m jim_outdir \u001b[39m=\u001b[39m os\u001b[39m.\u001b[39mpath\u001b[39m.\u001b[39mjoin(outdir, \u001b[39m'\u001b[39m\u001b[39mjim\u001b[39m\u001b[39m'\u001b[39m)\n\u001b[1;32m      3\u001b[0m bilby_outdir \u001b[39m=\u001b[39m os\u001b[39m.\u001b[39mpath\u001b[39m.\u001b[39mjoin(outdir, \u001b[39m'\u001b[39m\u001b[39mbilby\u001b[39m\u001b[39m'\u001b[39m)\n\u001b[0;32m----> 5\u001b[0m \u001b[39mprint\u001b[39m(os\u001b[39m.\u001b[39;49mlistdir(bilby_outdir))\n\u001b[1;32m      7\u001b[0m \u001b[39m# bilby_results_file = os.path.join(bilby_outdir, 'bbh_0_result.hdf5')\u001b[39;00m\n\u001b[1;32m      8\u001b[0m \u001b[39m# with h5py.File(bilby_results_file, 'r') as f:\u001b[39;00m\n\u001b[1;32m      9\u001b[0m \u001b[39m#     print(f.keys())\u001b[39;00m\n",
      "\u001b[0;31mFileNotFoundError\u001b[0m: [Errno 2] No such file or directory: '/home/thibeau.wouters/projects/jim_meets_harmonic/11d_runs/working_1/bilby'"
     ]
    }
   ],
   "source": [
    "outdir = os.path.join(os.getcwd(), 'working_1')\n",
    "jim_outdir = os.path.join(outdir, 'jim')\n",
    "bilby_outdir = os.path.join(outdir, 'bilby')\n",
    "\n",
    "print(os.listdir(bilby_outdir))\n",
    "\n",
    "# bilby_results_file = os.path.join(bilby_outdir, 'bbh_0_result.hdf5')\n",
    "# with h5py.File(bilby_results_file, 'r') as f:\n",
    "#     print(f.keys())"
   ]
  },
  {
   "cell_type": "code",
   "execution_count": 3,
   "metadata": {},
   "outputs": [
    {
     "data": {
      "text/plain": [
       "['bbh_0_copy.ini',\n",
       " 'README.md',\n",
       " 'working_1',\n",
       " 'datafiles',\n",
       " 'template_my_batch_run.ini',\n",
       " 'compare_cornerplots.ipynb',\n",
       " 'template_my_batch_generation.ini',\n",
       " 'my_batch_run.sh',\n",
       " 'outdir',\n",
       " 'generation_log',\n",
       " 'bbh_0.ini',\n",
       " 'setup_multiple_pbilby_injections.py',\n",
       " 'my_batch_generation.sh',\n",
       " 'config.ini']"
      ]
     },
     "execution_count": 3,
     "metadata": {},
     "output_type": "execute_result"
    }
   ],
   "source": []
  },
  {
   "cell_type": "code",
   "execution_count": null,
   "metadata": {},
   "outputs": [],
   "source": []
  }
 ],
 "metadata": {
  "kernelspec": {
   "display_name": "Python 3",
   "language": "python",
   "name": "python3"
  },
  "language_info": {
   "codemirror_mode": {
    "name": "ipython",
    "version": 3
   },
   "file_extension": ".py",
   "mimetype": "text/x-python",
   "name": "python",
   "nbconvert_exporter": "python",
   "pygments_lexer": "ipython3",
   "version": "3.10.14"
  },
  "orig_nbformat": 4
 },
 "nbformat": 4,
 "nbformat_minor": 2
}
