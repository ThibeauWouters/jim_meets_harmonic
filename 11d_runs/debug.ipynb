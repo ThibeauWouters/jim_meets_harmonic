{
 "cells": [
  {
   "cell_type": "markdown",
   "metadata": {},
   "source": [
    "# Debug"
   ]
  },
  {
   "cell_type": "markdown",
   "metadata": {},
   "source": [
    "## Preamble"
   ]
  },
  {
   "cell_type": "code",
   "execution_count": 1,
   "metadata": {},
   "outputs": [],
   "source": [
    "import os \n",
    "import h5py\n",
    "import bilby\n",
    "from bilby.core.prior import Uniform\n",
    "import numpy as np\n",
    "\n",
    "bilby_keys = [\"chirp_mass\",\n",
    "              \"mass_ratio\",\n",
    "              \"chi_1\",\n",
    "              \"chi_2\",\n",
    "              \"luminosity_distance\",\n",
    "              \"geocent_time\",\n",
    "              \"phase\",\n",
    "              \"theta_jn\",\n",
    "              \"psi\",\n",
    "              \"ra\",\n",
    "              \"dec\"\n",
    "]"
   ]
  },
  {
   "cell_type": "markdown",
   "metadata": {},
   "source": [
    "## Setup"
   ]
  },
  {
   "cell_type": "code",
   "execution_count": 2,
   "metadata": {},
   "outputs": [
    {
     "name": "stderr",
     "output_type": "stream",
     "text": [
      "15:57 bilby INFO    : Waveform generator initiated with\n",
      "  frequency_domain_source_model: bilby.gw.source.lal_binary_black_hole\n",
      "  time_domain_source_model: None\n",
      "  parameter_conversion: bilby.gw.conversion.convert_to_lal_binary_black_hole_parameters\n"
     ]
    },
    {
     "name": "stderr",
     "output_type": "stream",
     "text": [
      "/home/urash/twouters/bilby/bilby/gw/source.py:528: UserWarning: Wswiglal-redir-stdio:\n",
      "\n",
      "SWIGLAL standard output/error redirection is enabled in IPython.\n",
      "This may lead to performance penalties. To disable locally, use:\n",
      "\n",
      "with lal.no_swig_redirect_standard_output_error():\n",
      "    ...\n",
      "\n",
      "To disable globally, use:\n",
      "\n",
      "lal.swig_redirect_standard_output_error(True)\n",
      "\n",
      "Note however that this will likely lead to error messages from\n",
      "LAL functions being either misdirected or lost when called from\n",
      "Jupyter notebooks.\n",
      "\n",
      "To suppress this warning, use:\n",
      "\n",
      "import warnings\n",
      "warnings.filterwarnings(\"ignore\", \"Wswiglal-redir-stdio\")\n",
      "import lal\n",
      "\n",
      "  import lal\n",
      "15:57 bilby INFO    : Injected signal in H1:\n",
      "15:57 bilby INFO    :   optimal SNR = 21.97\n",
      "15:57 bilby INFO    :   matched filter SNR = 21.22+0.84j\n",
      "15:57 bilby INFO    :   chirp_mass = 60.0\n",
      "15:57 bilby INFO    :   mass_ratio = 0.65\n",
      "15:57 bilby INFO    :   chi_1 = 0.11737346979395644\n",
      "15:57 bilby INFO    :   chi_2 = 0.5308517575336058\n",
      "15:57 bilby INFO    :   luminosity_distance = 2500\n",
      "15:57 bilby INFO    :   dec = 2.5\n",
      "15:57 bilby INFO    :   ra = 2.5\n",
      "15:57 bilby INFO    :   theta_jn = 2.5\n",
      "15:57 bilby INFO    :   psi = 0.4\n",
      "15:57 bilby INFO    :   phase = 0.4\n",
      "15:57 bilby INFO    :   geocent_time = 0.0\n",
      "15:57 bilby INFO    : Injected signal in L1:\n",
      "15:57 bilby INFO    :   optimal SNR = 17.16\n",
      "15:57 bilby INFO    :   matched filter SNR = 16.22+0.65j\n",
      "15:57 bilby INFO    :   chirp_mass = 60.0\n",
      "15:57 bilby INFO    :   mass_ratio = 0.65\n",
      "15:57 bilby INFO    :   chi_1 = 0.11737346979395644\n",
      "15:57 bilby INFO    :   chi_2 = 0.5308517575336058\n",
      "15:57 bilby INFO    :   luminosity_distance = 2500\n",
      "15:57 bilby INFO    :   dec = 2.5\n",
      "15:57 bilby INFO    :   ra = 2.5\n",
      "15:57 bilby INFO    :   theta_jn = 2.5\n",
      "15:57 bilby INFO    :   psi = 0.4\n",
      "15:57 bilby INFO    :   phase = 0.4\n",
      "15:57 bilby INFO    :   geocent_time = 0.0\n",
      "15:57 bilby INFO    : Injected signal in V1:\n",
      "15:57 bilby INFO    :   optimal SNR = 2.03\n",
      "15:57 bilby INFO    :   matched filter SNR = 0.88+0.16j\n",
      "15:57 bilby INFO    :   chirp_mass = 60.0\n",
      "15:57 bilby INFO    :   mass_ratio = 0.65\n",
      "15:57 bilby INFO    :   chi_1 = 0.11737346979395644\n",
      "15:57 bilby INFO    :   chi_2 = 0.5308517575336058\n",
      "15:57 bilby INFO    :   luminosity_distance = 2500\n",
      "15:57 bilby INFO    :   dec = 2.5\n",
      "15:57 bilby INFO    :   ra = 2.5\n",
      "15:57 bilby INFO    :   theta_jn = 2.5\n",
      "15:57 bilby INFO    :   psi = 0.4\n",
      "15:57 bilby INFO    :   phase = 0.4\n",
      "15:57 bilby INFO    :   geocent_time = 0.0\n"
     ]
    }
   ],
   "source": [
    "duration = 4.0\n",
    "post_trigger_duration = 4.0\n",
    "sampling_frequency = 4096.0\n",
    "\n",
    "fmin = 20.0\n",
    "fmax = 2048.0\n",
    "\n",
    "outdir = \"outdir\"\n",
    "label = \"test\"\n",
    "bilby.core.utils.setup_logger(outdir=outdir, label=label)\n",
    "\n",
    "\n",
    "injection_parameters = {'chirp_mass': 60.0, 'mass_ratio': 0.65, 'chi_1': 0.117373469793956438, 'chi_2': 0.5308517575336058, 'luminosity_distance': 2500, 'dec': 2.5, 'ra': 2.5, 'theta_jn': 2.5, 'psi': 0.4, 'phase': 0.4, 'geocent_time': 0.0}\n",
    "\n",
    "# Fixed arguments passed into the source model\n",
    "waveform_arguments = dict(\n",
    "    waveform_approximant=\"IMRPhenomD\",\n",
    "    reference_frequency=20.0,\n",
    "    minimum_frequency=fmin,\n",
    "    maximum_frequency=fmax,\n",
    ")\n",
    "\n",
    "waveform_generator = bilby.gw.WaveformGenerator(\n",
    "    duration=duration,\n",
    "    sampling_frequency=sampling_frequency,\n",
    "    frequency_domain_source_model=bilby.gw.source.lal_binary_black_hole,\n",
    "    parameter_conversion=bilby.gw.conversion.convert_to_lal_binary_black_hole_parameters,\n",
    "    waveform_arguments=waveform_arguments,\n",
    ")\n",
    "\n",
    "ifos = bilby.gw.detector.InterferometerList([\"H1\", \"L1\", \"V1\"])\n",
    "ifos.set_strain_data_from_power_spectral_densities(\n",
    "    sampling_frequency=sampling_frequency,\n",
    "    duration=duration,\n",
    "    start_time=injection_parameters[\"geocent_time\"] - 2, # TODO: check this?\n",
    ")\n",
    "\n",
    "ifos.inject_signal(\n",
    "    waveform_generator=waveform_generator, parameters=injection_parameters\n",
    ")\n",
    "\n",
    "# priors = bilby.gw.prior.BBHPriorDict()\n",
    "chirp_mass = Uniform(name='chirp_mass', minimum=25, maximum=100)\n",
    "mass_ratio = Uniform(name='mass_ratio', minimum=0.125, maximum=1)\n",
    "chi_1 = Uniform(name='chi_1', minimum=-0.99, maximum=0.99)\n",
    "chi_2 = Uniform(name='chi_2', minimum=-0.99, maximum=0.99)\n",
    "luminosity_distance = Uniform(name='luminosity_distance', minimum=5e2, maximum=4e3)\n",
    "geocent_time = Uniform(name='geocent_time', minimum=-0.01, maximum=0.01)\n",
    "phase = Uniform(name='phase', minimum=0, maximum=2 * np.pi)\n",
    "theta_jn = Uniform(name='theta_jn', minimum=0, maximum=2*np.pi)\n",
    "psi = Uniform(name='psi', minimum=0, maximum=np.pi)\n",
    "dec = Uniform(name='dec', minimum=0, maximum=2*np.pi)\n",
    "ra = Uniform(name='ra', minimum=0, maximum=2 * np.pi)\n",
    "\n",
    "priors = dict(\n",
    "    chirp_mass=chirp_mass,\n",
    "    mass_ratio=mass_ratio,\n",
    "    chi_1=chi_1,\n",
    "    chi_2=chi_2,\n",
    "    luminosity_distance=luminosity_distance,\n",
    "    geocent_time=geocent_time,\n",
    "    phase=phase,\n",
    "    theta_jn=theta_jn,\n",
    "    psi=psi,\n",
    "    dec=dec,\n",
    "    ra=ra,\n",
    ")\n",
    "\n",
    "time_delay = ifos[0].time_delay_from_geocenter(\n",
    "    injection_parameters[\"ra\"],\n",
    "    injection_parameters[\"dec\"],\n",
    "    injection_parameters[\"geocent_time\"],\n",
    ")\n",
    "priors[\"H1_time\"] = bilby.core.prior.Uniform(\n",
    "    minimum=injection_parameters[\"geocent_time\"] + time_delay - 0.1,\n",
    "    maximum=injection_parameters[\"geocent_time\"] + time_delay + 0.1,\n",
    "    name=\"H1_time\",\n",
    "    latex_label=\"$t_H$\",\n",
    "    unit=\"$s$\",\n",
    ")\n",
    "\n",
    "likelihood = bilby.gw.GravitationalWaveTransient(\n",
    "    interferometers=ifos,\n",
    "    waveform_generator=waveform_generator,\n",
    "    priors=priors,\n",
    "    distance_marginalization=False,\n",
    "    phase_marginalization=False,\n",
    "    time_marginalization=False,\n",
    "    reference_frame=\"H1L1V1\",\n",
    "    time_reference=\"H1\",\n",
    ")\n",
    "\n",
    "# # Run sampler. In this case we're going to use the `dynesty` sampler\n",
    "# # Note that the `walks`, `nact`, and `maxmcmc` parameter are specified\n",
    "# # to ensure sufficient convergence of the analysis.\n",
    "# # We set `npool=4` to parallelize the analysis over four cores.\n",
    "# # The conversion function will determine the distance posterior in post processing\n",
    "# result = bilby.run_sampler(\n",
    "#     likelihood=likelihood,\n",
    "#     priors=priors,\n",
    "#     sampler=\"dynesty\",\n",
    "#     nlive=1000,\n",
    "#     walks=20,\n",
    "#     nact=50,\n",
    "#     maxmcmc=2000,\n",
    "#     npool=4,\n",
    "#     injection_parameters=injection_parameters,\n",
    "#     outdir=outdir,\n",
    "#     label=label,\n",
    "#     conversion_function=bilby.gw.conversion.generate_all_bbh_parameters,\n",
    "#     result_class=bilby.gw.result.CBCResult,\n",
    "# )\n",
    "\n",
    "# # Plot the inferred waveform superposed on the actual data.\n",
    "# result.plot_waveform_posterior(n_samples=1000)\n",
    "\n",
    "# # Make a corner plot.\n",
    "# result.plot_corner()"
   ]
  },
  {
   "cell_type": "markdown",
   "metadata": {},
   "source": [
    "## Likelihood"
   ]
  },
  {
   "cell_type": "code",
   "execution_count": 3,
   "metadata": {},
   "outputs": [
    {
     "name": "stdout",
     "output_type": "stream",
     "text": [
      "Mean log likelihood bilby: 401.7991660742341\n",
      "Mean log prob bilby: 383.5042822703733\n",
      "Mean log prob bilby: -18.294883803860813\n",
      "(5030, 11)\n"
     ]
    }
   ],
   "source": [
    "outdir = \"/home/urash/twouters/projects/jim_meets_harmonic/11d_runs/working_3/\"\n",
    "bilby_results_file = os.path.join(outdir, 'bilby/bbh_0_result.hdf5')\n",
    "with h5py.File(bilby_results_file, 'r') as f:\n",
    "    bilby_posterior_dict = f[\"posterior\"]\n",
    "    bilby_posterior = np.array([bilby_posterior_dict[key] for key in bilby_keys]).T\n",
    "    \n",
    "    log_noise_evidence = f[\"log_noise_evidence\"][()]\n",
    "    log_evidence = f[\"log_evidence\"][()]\n",
    "    \n",
    "    # Fetch truths\n",
    "    truths_dict = f[\"injection_parameters\"]\n",
    "    truths = []\n",
    "    for key in bilby_keys:\n",
    "        truths.append(truths_dict[key][()])\n",
    "    truths = np.array(truths)\n",
    "    \n",
    "    log_likelihood = bilby_posterior_dict[\"log_likelihood\"][()]\n",
    "    log_prior = bilby_posterior_dict[\"log_prior\"][()]\n",
    "    log_prob = log_likelihood + log_prior\n",
    "    avg_log_prob = np.mean(log_prob)\n",
    "    \n",
    "    print(f\"Mean log likelihood bilby: {np.mean(log_likelihood)}\")\n",
    "    print(f\"Mean log prob bilby: {avg_log_prob}\")\n",
    "    avg_log_prior = np.mean(log_prior)\n",
    "    print(f\"Mean log prob bilby: {avg_log_prior}\")\n",
    "    \n",
    "print(np.shape(bilby_posterior))"
   ]
  },
  {
   "cell_type": "code",
   "execution_count": 4,
   "metadata": {},
   "outputs": [
    {
     "name": "stderr",
     "output_type": "stream",
     "text": [
      "15:57 bilby WARNING : Cannot find H1_time in parameters. Falling back to geocent time\n",
      "15:57 bilby WARNING : Cannot convert from zenith/azimuth to ra/dec falling back to provided ra/dec\n"
     ]
    },
    {
     "name": "stdout",
     "output_type": "stream",
     "text": [
      "-24097.03054879473\n"
     ]
    }
   ],
   "source": [
    "likelihood.parameters.update(injection_parameters)\n",
    "print(likelihood.log_likelihood())"
   ]
  },
  {
   "cell_type": "code",
   "execution_count": null,
   "metadata": {},
   "outputs": [],
   "source": []
  }
 ],
 "metadata": {
  "kernelspec": {
   "display_name": "Python 3",
   "language": "python",
   "name": "python3"
  },
  "language_info": {
   "codemirror_mode": {
    "name": "ipython",
    "version": 3
   },
   "file_extension": ".py",
   "mimetype": "text/x-python",
   "name": "python",
   "nbconvert_exporter": "python",
   "pygments_lexer": "ipython3",
   "version": "3.10.13"
  },
  "orig_nbformat": 4
 },
 "nbformat": 4,
 "nbformat_minor": 2
}
