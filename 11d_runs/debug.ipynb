{
 "cells": [
  {
   "cell_type": "markdown",
   "metadata": {},
   "source": [
    "# Debug"
   ]
  },
  {
   "cell_type": "markdown",
   "metadata": {},
   "source": [
    "Debug the problems"
   ]
  },
  {
   "cell_type": "markdown",
   "metadata": {},
   "source": [
    "## Preamble"
   ]
  },
  {
   "cell_type": "code",
   "execution_count": 1,
   "metadata": {},
   "outputs": [],
   "source": [
    "import os \n",
    "import h5py\n",
    "import bilby\n",
    "from bilby.core.prior import Uniform\n",
    "import numpy as np\n",
    "import matplotlib.pyplot as plt\n",
    "import warnings\n",
    "\n",
    "bilby_keys = [\"chirp_mass\",\n",
    "              \"mass_ratio\",\n",
    "              \"chi_1\",\n",
    "              \"chi_2\",\n",
    "              \"luminosity_distance\",\n",
    "              \"geocent_time\",\n",
    "              \"phase\",\n",
    "              \"theta_jn\",\n",
    "              \"psi\",\n",
    "              \"ra\",\n",
    "              \"dec\"\n",
    "]"
   ]
  },
  {
   "cell_type": "markdown",
   "metadata": {},
   "source": [
    "## Setup"
   ]
  },
  {
   "cell_type": "code",
   "execution_count": 2,
   "metadata": {},
   "outputs": [
    {
     "name": "stderr",
     "output_type": "stream",
     "text": [
      "13:36 bilby INFO    : Waveform generator initiated with\n",
      "  frequency_domain_source_model: bilby.gw.source.lal_binary_black_hole\n",
      "  time_domain_source_model: None\n",
      "  parameter_conversion: bilby.gw.conversion.convert_to_lal_binary_black_hole_parameters\n"
     ]
    },
    {
     "name": "stderr",
     "output_type": "stream",
     "text": [
      "/home/urash/twouters/bilby/bilby/gw/source.py:528: UserWarning: Wswiglal-redir-stdio:\n",
      "\n",
      "SWIGLAL standard output/error redirection is enabled in IPython.\n",
      "This may lead to performance penalties. To disable locally, use:\n",
      "\n",
      "with lal.no_swig_redirect_standard_output_error():\n",
      "    ...\n",
      "\n",
      "To disable globally, use:\n",
      "\n",
      "lal.swig_redirect_standard_output_error(True)\n",
      "\n",
      "Note however that this will likely lead to error messages from\n",
      "LAL functions being either misdirected or lost when called from\n",
      "Jupyter notebooks.\n",
      "\n",
      "To suppress this warning, use:\n",
      "\n",
      "import warnings\n",
      "warnings.filterwarnings(\"ignore\", \"Wswiglal-redir-stdio\")\n",
      "import lal\n",
      "\n",
      "  import lal\n",
      "13:36 bilby INFO    : Injected signal in H1:\n",
      "13:36 bilby INFO    :   optimal SNR = 21.97\n",
      "13:36 bilby INFO    :   matched filter SNR = 21.32-0.21j\n",
      "13:36 bilby INFO    :   chirp_mass = 60.0\n",
      "13:36 bilby INFO    :   mass_ratio = 0.65\n",
      "13:36 bilby INFO    :   chi_1 = 0.11737346979395644\n",
      "13:36 bilby INFO    :   chi_2 = 0.5308517575336058\n",
      "13:36 bilby INFO    :   luminosity_distance = 2500\n",
      "13:36 bilby INFO    :   dec = 2.5\n",
      "13:36 bilby INFO    :   ra = 2.5\n",
      "13:36 bilby INFO    :   theta_jn = 2.5\n",
      "13:36 bilby INFO    :   psi = 0.4\n",
      "13:36 bilby INFO    :   phase = 0.4\n",
      "13:36 bilby INFO    :   geocent_time = 0.0\n",
      "13:36 bilby INFO    : Injected signal in L1:\n",
      "13:36 bilby INFO    :   optimal SNR = 17.16\n",
      "13:36 bilby INFO    :   matched filter SNR = 16.92-0.73j\n",
      "13:36 bilby INFO    :   chirp_mass = 60.0\n",
      "13:36 bilby INFO    :   mass_ratio = 0.65\n",
      "13:36 bilby INFO    :   chi_1 = 0.11737346979395644\n",
      "13:36 bilby INFO    :   chi_2 = 0.5308517575336058\n",
      "13:36 bilby INFO    :   luminosity_distance = 2500\n",
      "13:36 bilby INFO    :   dec = 2.5\n",
      "13:36 bilby INFO    :   ra = 2.5\n",
      "13:36 bilby INFO    :   theta_jn = 2.5\n",
      "13:36 bilby INFO    :   psi = 0.4\n",
      "13:36 bilby INFO    :   phase = 0.4\n",
      "13:36 bilby INFO    :   geocent_time = 0.0\n",
      "13:36 bilby INFO    : Injected signal in V1:\n",
      "13:36 bilby INFO    :   optimal SNR = 2.03\n",
      "13:36 bilby INFO    :   matched filter SNR = 1.53+1.00j\n",
      "13:36 bilby INFO    :   chirp_mass = 60.0\n",
      "13:36 bilby INFO    :   mass_ratio = 0.65\n",
      "13:36 bilby INFO    :   chi_1 = 0.11737346979395644\n",
      "13:36 bilby INFO    :   chi_2 = 0.5308517575336058\n",
      "13:36 bilby INFO    :   luminosity_distance = 2500\n",
      "13:36 bilby INFO    :   dec = 2.5\n",
      "13:36 bilby INFO    :   ra = 2.5\n",
      "13:36 bilby INFO    :   theta_jn = 2.5\n",
      "13:36 bilby INFO    :   psi = 0.4\n",
      "13:36 bilby INFO    :   phase = 0.4\n",
      "13:36 bilby INFO    :   geocent_time = 0.0\n"
     ]
    }
   ],
   "source": [
    "duration = 4.0\n",
    "post_trigger_duration = 4.0\n",
    "sampling_frequency = 4096.0\n",
    "\n",
    "fmin = 20.0\n",
    "fmax = 2048.0\n",
    "\n",
    "outdir = \"outdir\"\n",
    "label = \"test\"\n",
    "bilby.core.utils.setup_logger(outdir=outdir, label=label)\n",
    "\n",
    "\n",
    "injection_parameters = {'chirp_mass': 60.0, 'mass_ratio': 0.65, 'chi_1': 0.117373469793956438, 'chi_2': 0.5308517575336058, 'luminosity_distance': 2500, 'dec': 2.5, 'ra': 2.5, 'theta_jn': 2.5, 'psi': 0.4, 'phase': 0.4, 'geocent_time': 0.0}\n",
    "\n",
    "# Fixed arguments passed into the source model\n",
    "waveform_arguments = dict(\n",
    "    waveform_approximant=\"IMRPhenomD\",\n",
    "    reference_frequency=20.0,\n",
    "    minimum_frequency=fmin,\n",
    "    maximum_frequency=fmax,\n",
    ")\n",
    "\n",
    "waveform_generator = bilby.gw.WaveformGenerator(\n",
    "    duration=duration,\n",
    "    sampling_frequency=sampling_frequency,\n",
    "    frequency_domain_source_model=bilby.gw.source.lal_binary_black_hole,\n",
    "    parameter_conversion=bilby.gw.conversion.convert_to_lal_binary_black_hole_parameters,\n",
    "    waveform_arguments=waveform_arguments,\n",
    ")\n",
    "\n",
    "ifos = bilby.gw.detector.InterferometerList([\"H1\", \"L1\", \"V1\"])\n",
    "ifos.set_strain_data_from_power_spectral_densities(\n",
    "    sampling_frequency=sampling_frequency,\n",
    "    duration=duration,\n",
    "    start_time=injection_parameters[\"geocent_time\"] - 2, # TODO: check this?\n",
    ")\n",
    "\n",
    "ifos.inject_signal(\n",
    "    waveform_generator=waveform_generator, \n",
    "    parameters=injection_parameters\n",
    ")\n",
    "\n",
    "# priors = bilby.gw.prior.BBHPriorDict()\n",
    "chirp_mass = Uniform(name='chirp_mass', minimum=25, maximum=100)\n",
    "mass_ratio = Uniform(name='mass_ratio', minimum=0.125, maximum=1)\n",
    "chi_1 = Uniform(name='chi_1', minimum=-0.99, maximum=0.99)\n",
    "chi_2 = Uniform(name='chi_2', minimum=-0.99, maximum=0.99)\n",
    "luminosity_distance = Uniform(name='luminosity_distance', minimum=5e2, maximum=4e3)\n",
    "geocent_time = Uniform(name='geocent_time', minimum=-0.01, maximum=0.01)\n",
    "phase = Uniform(name='phase', minimum=0, maximum=2 * np.pi)\n",
    "theta_jn = Uniform(name='theta_jn', minimum=0, maximum=2*np.pi)\n",
    "psi = Uniform(name='psi', minimum=0, maximum=np.pi)\n",
    "dec = Uniform(name='dec', minimum=0, maximum=2*np.pi)\n",
    "ra = Uniform(name='ra', minimum=0, maximum=2 * np.pi)\n",
    "\n",
    "priors = dict(\n",
    "    chirp_mass=chirp_mass,\n",
    "    mass_ratio=mass_ratio,\n",
    "    chi_1=chi_1,\n",
    "    chi_2=chi_2,\n",
    "    luminosity_distance=luminosity_distance,\n",
    "    geocent_time=geocent_time,\n",
    "    phase=phase,\n",
    "    theta_jn=theta_jn,\n",
    "    psi=psi,\n",
    "    dec=dec,\n",
    "    ra=ra,\n",
    ")\n",
    "\n",
    "time_delay = ifos[0].time_delay_from_geocenter(\n",
    "    injection_parameters[\"ra\"],\n",
    "    injection_parameters[\"dec\"],\n",
    "    injection_parameters[\"geocent_time\"],\n",
    ")\n",
    "priors[\"H1_time\"] = bilby.core.prior.Uniform(\n",
    "    minimum=injection_parameters[\"geocent_time\"] + time_delay - 0.1,\n",
    "    maximum=injection_parameters[\"geocent_time\"] + time_delay + 0.1,\n",
    "    name=\"H1_time\",\n",
    "    latex_label=\"$t_H$\",\n",
    "    unit=\"$s$\",\n",
    ")\n",
    "\n",
    "likelihood = bilby.gw.GravitationalWaveTransient(\n",
    "    interferometers=ifos,\n",
    "    waveform_generator=waveform_generator,\n",
    "    priors=priors,\n",
    "    distance_marginalization=False,\n",
    "    phase_marginalization=False,\n",
    "    time_marginalization=False,\n",
    "    reference_frame=\"H1L1V1\",\n",
    "    time_reference=\"H1\",\n",
    ")\n",
    "\n",
    "# # Run sampler. In this case we're going to use the `dynesty` sampler\n",
    "# # Note that the `walks`, `nact`, and `maxmcmc` parameter are specified\n",
    "# # to ensure sufficient convergence of the analysis.\n",
    "# # We set `npool=4` to parallelize the analysis over four cores.\n",
    "# # The conversion function will determine the distance posterior in post processing\n",
    "# result = bilby.run_sampler(\n",
    "#     likelihood=likelihood,\n",
    "#     priors=priors,\n",
    "#     sampler=\"dynesty\",\n",
    "#     nlive=1000,\n",
    "#     walks=20,\n",
    "#     nact=50,\n",
    "#     maxmcmc=2000,\n",
    "#     npool=4,\n",
    "#     injection_parameters=injection_parameters,\n",
    "#     outdir=outdir,\n",
    "#     label=label,\n",
    "#     conversion_function=bilby.gw.conversion.generate_all_bbh_parameters,\n",
    "#     result_class=bilby.gw.result.CBCResult,\n",
    "# )\n",
    "\n",
    "# # Plot the inferred waveform superposed on the actual data.\n",
    "# result.plot_waveform_posterior(n_samples=1000)\n",
    "\n",
    "# # Make a corner plot.\n",
    "# result.plot_corner()"
   ]
  },
  {
   "cell_type": "markdown",
   "metadata": {},
   "source": [
    "## Investigate likelihood attrs"
   ]
  },
  {
   "cell_type": "markdown",
   "metadata": {},
   "source": [
    "Let's see what has been put into the likelihood"
   ]
  },
  {
   "cell_type": "code",
   "execution_count": 3,
   "metadata": {},
   "outputs": [
    {
     "data": {
      "text/plain": [
       "{'waveform_generator': WaveformGenerator(duration=4.0, sampling_frequency=4096.0, start_time=-2.0, frequency_domain_source_model=lal_binary_black_hole, time_domain_source_model=None, parameter_conversion=convert_to_lal_binary_black_hole_parameters, waveform_arguments={'waveform_approximant': 'IMRPhenomD', 'reference_frequency': 20.0, 'minimum_frequency': 20.0, 'maximum_frequency': 2048.0}),\n",
       " 'parameters': {},\n",
       " '_meta_data': None,\n",
       " '_marginalized_parameters': [],\n",
       " '_interferometers': [Interferometer(name='H1', power_spectral_density=PowerSpectralDensity(psd_file='None', asd_file='/home/urash/twouters/bilby/bilby/gw/detector/noise_curves/aLIGO_O4_high_asd.txt'), minimum_frequency=20.0, maximum_frequency=2048.0, length=4.0, latitude=46.45514666666667, longitude=-119.4076571388889, elevation=142.554, xarm_azimuth=125.9994, yarm_azimuth=215.9994, xarm_tilt=-0.0006195, yarm_tilt=1.25e-05),\n",
       "  Interferometer(name='L1', power_spectral_density=PowerSpectralDensity(psd_file='None', asd_file='/home/urash/twouters/bilby/bilby/gw/detector/noise_curves/aLIGO_O4_high_asd.txt'), minimum_frequency=20.0, maximum_frequency=2048.0, length=4.0, latitude=30.562894333333332, longitude=-90.77424038888887, elevation=-6.574, xarm_azimuth=197.7165, yarm_azimuth=287.7165, xarm_tilt=-0.0003121, yarm_tilt=-0.0006107),\n",
       "  Interferometer(name='V1', power_spectral_density=PowerSpectralDensity(psd_file='/home/urash/twouters/bilby/bilby/gw/detector/noise_curves/AdV_psd.txt', asd_file='None'), minimum_frequency=20.0, maximum_frequency=2048.0, length=3.0, latitude=43.631414472222225, longitude=10.504496611111112, elevation=51.884, xarm_azimuth=70.56740000000002, yarm_azimuth=160.5674, xarm_tilt=0.0, yarm_tilt=0.0)],\n",
       " 'time_marginalization': False,\n",
       " 'distance_marginalization': False,\n",
       " 'phase_marginalization': False,\n",
       " 'calibration_marginalization': False,\n",
       " '_prior': {'chirp_mass': Uniform(minimum=25, maximum=100, name='chirp_mass', latex_label='$\\\\mathcal{M}$', unit=None, boundary=None),\n",
       "  'mass_ratio': Uniform(minimum=0.125, maximum=1, name='mass_ratio', latex_label='$q$', unit=None, boundary=None),\n",
       "  'chi_1': Uniform(minimum=-0.99, maximum=0.99, name='chi_1', latex_label='$\\\\chi_1$', unit=None, boundary=None),\n",
       "  'chi_2': Uniform(minimum=-0.99, maximum=0.99, name='chi_2', latex_label='$\\\\chi_2$', unit=None, boundary=None),\n",
       "  'luminosity_distance': Uniform(minimum=500.0, maximum=4000.0, name='luminosity_distance', latex_label='$d_L$', unit=None, boundary=None),\n",
       "  'geocent_time': Uniform(minimum=-0.01, maximum=0.01, name='geocent_time', latex_label='$t_c$', unit=None, boundary=None),\n",
       "  'phase': Uniform(minimum=0, maximum=6.283185307179586, name='phase', latex_label='$\\\\phi$', unit=None, boundary=None),\n",
       "  'theta_jn': Uniform(minimum=0, maximum=6.283185307179586, name='theta_jn', latex_label='$\\\\theta_{JN}$', unit=None, boundary=None),\n",
       "  'psi': Uniform(minimum=0, maximum=3.141592653589793, name='psi', latex_label='$\\\\psi$', unit=None, boundary=None),\n",
       "  'dec': Uniform(minimum=0, maximum=6.283185307179586, name='dec', latex_label='$\\\\mathrm{DEC}$', unit=None, boundary=None),\n",
       "  'ra': Uniform(minimum=0, maximum=6.283185307179586, name='ra', latex_label='$\\\\mathrm{RA}$', unit=None, boundary=None),\n",
       "  'H1_time': Uniform(minimum=-0.12008303318677904, maximum=0.07991696681322097, name='H1_time', latex_label='$t_H$', unit='$s$', boundary=None)},\n",
       " '_noise_log_likelihood_value': None,\n",
       " 'jitter_time': False,\n",
       " '_reference_frame': [Interferometer(name='H1', power_spectral_density=PowerSpectralDensity(psd_file='None', asd_file='/home/urash/twouters/bilby/bilby/gw/detector/noise_curves/aLIGO_O4_high_asd.txt'), minimum_frequency=20.0, maximum_frequency=2048.0, length=4.0, latitude=46.45514666666667, longitude=-119.4076571388889, elevation=142.554, xarm_azimuth=125.9994, yarm_azimuth=215.9994, xarm_tilt=-0.0006195, yarm_tilt=1.25e-05),\n",
       "  Interferometer(name='L1', power_spectral_density=PowerSpectralDensity(psd_file='None', asd_file='/home/urash/twouters/bilby/bilby/gw/detector/noise_curves/aLIGO_O4_high_asd.txt'), minimum_frequency=20.0, maximum_frequency=2048.0, length=4.0, latitude=30.562894333333332, longitude=-90.77424038888887, elevation=-6.574, xarm_azimuth=197.7165, yarm_azimuth=287.7165, xarm_tilt=-0.0003121, yarm_tilt=-0.0006107)],\n",
       " 'time_reference': 'H1',\n",
       " 'reference_ifo': Interferometer(name='H1', power_spectral_density=PowerSpectralDensity(psd_file='None', asd_file='/home/urash/twouters/bilby/bilby/gw/detector/noise_curves/aLIGO_O4_high_asd.txt'), minimum_frequency=20.0, maximum_frequency=2048.0, length=4.0, latitude=46.45514666666667, longitude=-119.4076571388889, elevation=142.554, xarm_azimuth=125.9994, yarm_azimuth=215.9994, xarm_tilt=-0.0006195, yarm_tilt=1.25e-05)}"
      ]
     },
     "execution_count": 3,
     "metadata": {},
     "output_type": "execute_result"
    }
   ],
   "source": [
    "likelihood.__dict__"
   ]
  },
  {
   "cell_type": "markdown",
   "metadata": {},
   "source": [
    "## Likelihood evaluations"
   ]
  },
  {
   "cell_type": "code",
   "execution_count": 4,
   "metadata": {},
   "outputs": [
    {
     "name": "stdout",
     "output_type": "stream",
     "text": [
      "Mean log likelihood bilby: 401.7991660742341\n",
      "Mean log prob bilby: 383.5042822703733\n",
      "Mean log prob bilby: -18.294883803860813\n",
      "(5030, 11)\n"
     ]
    }
   ],
   "source": [
    "outdir = \"/home/urash/twouters/projects/jim_meets_harmonic/11d_runs/working_3/\"\n",
    "bilby_results_file = os.path.join(outdir, 'bilby/bbh_0_result.hdf5')\n",
    "with h5py.File(bilby_results_file, 'r') as f:\n",
    "    bilby_posterior_dict = f[\"posterior\"]\n",
    "    bilby_posterior = np.array([bilby_posterior_dict[key] for key in bilby_keys]).T\n",
    "    \n",
    "    log_noise_evidence = f[\"log_noise_evidence\"][()]\n",
    "    log_evidence = f[\"log_evidence\"][()]\n",
    "    \n",
    "    # Fetch truths\n",
    "    truths_dict = f[\"injection_parameters\"]\n",
    "    truths = []\n",
    "    for key in bilby_keys:\n",
    "        truths.append(truths_dict[key][()])\n",
    "    truths = np.array(truths)\n",
    "    \n",
    "    log_likelihood = bilby_posterior_dict[\"log_likelihood\"][()]\n",
    "    log_prior = bilby_posterior_dict[\"log_prior\"][()]\n",
    "    log_prob = log_likelihood + log_prior\n",
    "    avg_log_prob = np.mean(log_prob)\n",
    "    \n",
    "    print(f\"Mean log likelihood bilby: {np.mean(log_likelihood)}\")\n",
    "    print(f\"Mean log prob bilby: {avg_log_prob}\")\n",
    "    avg_log_prior = np.mean(log_prior)\n",
    "    print(f\"Mean log prob bilby: {avg_log_prior}\")\n",
    "    \n",
    "print(np.shape(bilby_posterior))"
   ]
  },
  {
   "cell_type": "code",
   "execution_count": 5,
   "metadata": {},
   "outputs": [
    {
     "name": "stderr",
     "output_type": "stream",
     "text": [
      "13:36 bilby WARNING : Cannot find H1_time in parameters. Falling back to geocent time\n",
      "13:36 bilby WARNING : Cannot convert from zenith/azimuth to ra/dec falling back to provided ra/dec\n"
     ]
    },
    {
     "name": "stdout",
     "output_type": "stream",
     "text": [
      "371.2146199045661\n"
     ]
    }
   ],
   "source": [
    "likelihood.parameters.update(injection_parameters)\n",
    "print(likelihood.log_likelihood())"
   ]
  },
  {
   "cell_type": "markdown",
   "metadata": {},
   "source": [
    "## On the jim samples"
   ]
  },
  {
   "cell_type": "code",
   "execution_count": 6,
   "metadata": {},
   "outputs": [],
   "source": [
    "LOG_PRIOR_VALUE = -18.294883803860813\n",
    "\n",
    "jim_file = \"./working_3/jim/results_production.npz\"\n",
    "data = np.load(jim_file)\n",
    "chains = data[\"chains\"]\n",
    "chains = np.reshape(chains, (-1, chains.shape[-1]))\n",
    "log_prob = data[\"log_prob\"]\n",
    "log_prob = np.reshape(log_prob, (-1, ))\n",
    "\n",
    "jim_naming = [\"M_c\", \"q\", \"s1_z\", \"s2_z\", \"d_L\", \"t_c\", \"phase_c\", \"iota\", \"psi\", \"ra\", \"dec\"]\n",
    "\n",
    "# translating keys from bilby to jim\n",
    "translation = {\"chirp_mass\": \"M_c\",\n",
    "               \"mass_ratio\": \"q\",\n",
    "               \"chi_1\": \"s1_z\",\n",
    "                \"chi_2\": \"s2_z\",\n",
    "                \"luminosity_distance\": \"d_L\",\n",
    "                \"geocent_time\": \"t_c\",\n",
    "                \"dec\": \"dec\",\n",
    "                \"ra\": \"ra\",\n",
    "                \"theta_jn\": \"iota\",\n",
    "                \"psi\": \"psi\",\n",
    "                \"phase\": \"phase_c\",\n",
    "                \"geocent_time\": \"t_c\"\n",
    "               }\n",
    "\n",
    "def get_jim_vals(idx):\n",
    "    \"\"\"Get the values as dictionary for bilby consumption at specific idx in the jim chains\"\"\"\n",
    "    new_vals = {}\n",
    "    for name in likelihood.parameters.keys():\n",
    "        if name in translation:\n",
    "            new_vals[name] = chains[idx, jim_naming.index(translation[name])]\n",
    "        else:\n",
    "            raise ValueError(f\"Key {name} not found in translation\")\n",
    "        \n",
    "    return new_vals"
   ]
  },
  {
   "cell_type": "code",
   "execution_count": 7,
   "metadata": {},
   "outputs": [
    {
     "name": "stderr",
     "output_type": "stream",
     "text": [
      "13:36 bilby WARNING : Cannot find H1_time in parameters. Falling back to geocent time\n",
      "13:36 bilby WARNING : Cannot convert from zenith/azimuth to ra/dec falling back to provided ra/dec\n"
     ]
    },
    {
     "name": "stderr",
     "output_type": "stream",
     "text": [
      "13:36 bilby WARNING : Cannot find H1_time in parameters. Falling back to geocent time\n",
      "13:36 bilby WARNING : Cannot convert from zenith/azimuth to ra/dec falling back to provided ra/dec\n",
      "13:36 bilby WARNING : Cannot find H1_time in parameters. Falling back to geocent time\n",
      "13:36 bilby WARNING : Cannot convert from zenith/azimuth to ra/dec falling back to provided ra/dec\n",
      "13:36 bilby WARNING : Cannot find H1_time in parameters. Falling back to geocent time\n",
      "13:36 bilby WARNING : Cannot convert from zenith/azimuth to ra/dec falling back to provided ra/dec\n",
      "13:36 bilby WARNING : Cannot find H1_time in parameters. Falling back to geocent time\n",
      "13:36 bilby WARNING : Cannot convert from zenith/azimuth to ra/dec falling back to provided ra/dec\n",
      "13:36 bilby WARNING : Cannot find H1_time in parameters. Falling back to geocent time\n",
      "13:36 bilby WARNING : Cannot convert from zenith/azimuth to ra/dec falling back to provided ra/dec\n",
      "13:36 bilby WARNING : Cannot find H1_time in parameters. Falling back to geocent time\n",
      "13:36 bilby WARNING : Cannot convert from zenith/azimuth to ra/dec falling back to provided ra/dec\n",
      "13:36 bilby WARNING : Cannot find H1_time in parameters. Falling back to geocent time\n",
      "13:36 bilby WARNING : Cannot convert from zenith/azimuth to ra/dec falling back to provided ra/dec\n",
      "13:36 bilby WARNING : Cannot find H1_time in parameters. Falling back to geocent time\n",
      "13:36 bilby WARNING : Cannot convert from zenith/azimuth to ra/dec falling back to provided ra/dec\n",
      "13:36 bilby WARNING : Cannot find H1_time in parameters. Falling back to geocent time\n",
      "13:36 bilby WARNING : Cannot convert from zenith/azimuth to ra/dec falling back to provided ra/dec\n",
      "13:36 bilby WARNING : Cannot find H1_time in parameters. Falling back to geocent time\n",
      "13:36 bilby WARNING : Cannot convert from zenith/azimuth to ra/dec falling back to provided ra/dec\n",
      "13:36 bilby WARNING : Cannot find H1_time in parameters. Falling back to geocent time\n",
      "13:36 bilby WARNING : Cannot convert from zenith/azimuth to ra/dec falling back to provided ra/dec\n",
      "13:36 bilby WARNING : Cannot find H1_time in parameters. Falling back to geocent time\n",
      "13:36 bilby WARNING : Cannot convert from zenith/azimuth to ra/dec falling back to provided ra/dec\n",
      "13:36 bilby WARNING : Cannot find H1_time in parameters. Falling back to geocent time\n",
      "13:36 bilby WARNING : Cannot convert from zenith/azimuth to ra/dec falling back to provided ra/dec\n",
      "13:36 bilby WARNING : Cannot find H1_time in parameters. Falling back to geocent time\n",
      "13:36 bilby WARNING : Cannot convert from zenith/azimuth to ra/dec falling back to provided ra/dec\n",
      "13:36 bilby WARNING : Cannot find H1_time in parameters. Falling back to geocent time\n",
      "13:36 bilby WARNING : Cannot convert from zenith/azimuth to ra/dec falling back to provided ra/dec\n",
      "13:36 bilby WARNING : Cannot find H1_time in parameters. Falling back to geocent time\n",
      "13:36 bilby WARNING : Cannot convert from zenith/azimuth to ra/dec falling back to provided ra/dec\n",
      "13:36 bilby WARNING : Cannot find H1_time in parameters. Falling back to geocent time\n",
      "13:36 bilby WARNING : Cannot convert from zenith/azimuth to ra/dec falling back to provided ra/dec\n",
      "13:36 bilby WARNING : Cannot find H1_time in parameters. Falling back to geocent time\n",
      "13:36 bilby WARNING : Cannot convert from zenith/azimuth to ra/dec falling back to provided ra/dec\n",
      "13:36 bilby WARNING : Cannot find H1_time in parameters. Falling back to geocent time\n",
      "13:36 bilby WARNING : Cannot convert from zenith/azimuth to ra/dec falling back to provided ra/dec\n",
      "13:36 bilby WARNING : Cannot find H1_time in parameters. Falling back to geocent time\n",
      "13:36 bilby WARNING : Cannot convert from zenith/azimuth to ra/dec falling back to provided ra/dec\n",
      "13:36 bilby WARNING : Cannot find H1_time in parameters. Falling back to geocent time\n",
      "13:36 bilby WARNING : Cannot convert from zenith/azimuth to ra/dec falling back to provided ra/dec\n",
      "13:36 bilby WARNING : Cannot find H1_time in parameters. Falling back to geocent time\n",
      "13:36 bilby WARNING : Cannot convert from zenith/azimuth to ra/dec falling back to provided ra/dec\n",
      "13:36 bilby WARNING : Cannot find H1_time in parameters. Falling back to geocent time\n",
      "13:36 bilby WARNING : Cannot convert from zenith/azimuth to ra/dec falling back to provided ra/dec\n",
      "13:36 bilby WARNING : Cannot find H1_time in parameters. Falling back to geocent time\n",
      "13:36 bilby WARNING : Cannot convert from zenith/azimuth to ra/dec falling back to provided ra/dec\n",
      "13:36 bilby WARNING : Cannot find H1_time in parameters. Falling back to geocent time\n",
      "13:36 bilby WARNING : Cannot convert from zenith/azimuth to ra/dec falling back to provided ra/dec\n",
      "13:36 bilby WARNING : Cannot find H1_time in parameters. Falling back to geocent time\n",
      "13:36 bilby WARNING : Cannot convert from zenith/azimuth to ra/dec falling back to provided ra/dec\n",
      "13:36 bilby WARNING : Cannot find H1_time in parameters. Falling back to geocent time\n",
      "13:36 bilby WARNING : Cannot convert from zenith/azimuth to ra/dec falling back to provided ra/dec\n",
      "13:36 bilby WARNING : Cannot find H1_time in parameters. Falling back to geocent time\n",
      "13:36 bilby WARNING : Cannot convert from zenith/azimuth to ra/dec falling back to provided ra/dec\n",
      "13:36 bilby WARNING : Cannot find H1_time in parameters. Falling back to geocent time\n",
      "13:36 bilby WARNING : Cannot convert from zenith/azimuth to ra/dec falling back to provided ra/dec\n",
      "13:36 bilby WARNING : Cannot find H1_time in parameters. Falling back to geocent time\n",
      "13:36 bilby WARNING : Cannot convert from zenith/azimuth to ra/dec falling back to provided ra/dec\n",
      "13:36 bilby WARNING : Cannot find H1_time in parameters. Falling back to geocent time\n",
      "13:36 bilby WARNING : Cannot convert from zenith/azimuth to ra/dec falling back to provided ra/dec\n",
      "13:36 bilby WARNING : Cannot find H1_time in parameters. Falling back to geocent time\n",
      "13:36 bilby WARNING : Cannot convert from zenith/azimuth to ra/dec falling back to provided ra/dec\n",
      "13:36 bilby WARNING : Cannot find H1_time in parameters. Falling back to geocent time\n",
      "13:36 bilby WARNING : Cannot convert from zenith/azimuth to ra/dec falling back to provided ra/dec\n",
      "13:36 bilby WARNING : Cannot find H1_time in parameters. Falling back to geocent time\n",
      "13:36 bilby WARNING : Cannot convert from zenith/azimuth to ra/dec falling back to provided ra/dec\n",
      "13:36 bilby WARNING : Cannot find H1_time in parameters. Falling back to geocent time\n",
      "13:36 bilby WARNING : Cannot convert from zenith/azimuth to ra/dec falling back to provided ra/dec\n",
      "13:36 bilby WARNING : Cannot find H1_time in parameters. Falling back to geocent time\n",
      "13:36 bilby WARNING : Cannot convert from zenith/azimuth to ra/dec falling back to provided ra/dec\n",
      "13:36 bilby WARNING : Cannot find H1_time in parameters. Falling back to geocent time\n",
      "13:36 bilby WARNING : Cannot convert from zenith/azimuth to ra/dec falling back to provided ra/dec\n",
      "13:36 bilby WARNING : Cannot find H1_time in parameters. Falling back to geocent time\n",
      "13:36 bilby WARNING : Cannot convert from zenith/azimuth to ra/dec falling back to provided ra/dec\n",
      "13:36 bilby WARNING : Cannot find H1_time in parameters. Falling back to geocent time\n",
      "13:36 bilby WARNING : Cannot convert from zenith/azimuth to ra/dec falling back to provided ra/dec\n",
      "13:36 bilby WARNING : Cannot find H1_time in parameters. Falling back to geocent time\n",
      "13:36 bilby WARNING : Cannot convert from zenith/azimuth to ra/dec falling back to provided ra/dec\n",
      "13:36 bilby WARNING : Cannot find H1_time in parameters. Falling back to geocent time\n",
      "13:36 bilby WARNING : Cannot convert from zenith/azimuth to ra/dec falling back to provided ra/dec\n",
      "13:36 bilby WARNING : Cannot find H1_time in parameters. Falling back to geocent time\n",
      "13:36 bilby WARNING : Cannot convert from zenith/azimuth to ra/dec falling back to provided ra/dec\n",
      "13:36 bilby WARNING : Cannot find H1_time in parameters. Falling back to geocent time\n",
      "13:36 bilby WARNING : Cannot convert from zenith/azimuth to ra/dec falling back to provided ra/dec\n",
      "13:36 bilby WARNING : Cannot find H1_time in parameters. Falling back to geocent time\n",
      "13:36 bilby WARNING : Cannot convert from zenith/azimuth to ra/dec falling back to provided ra/dec\n",
      "13:36 bilby WARNING : Cannot find H1_time in parameters. Falling back to geocent time\n",
      "13:36 bilby WARNING : Cannot convert from zenith/azimuth to ra/dec falling back to provided ra/dec\n",
      "13:36 bilby WARNING : Cannot find H1_time in parameters. Falling back to geocent time\n",
      "13:36 bilby WARNING : Cannot convert from zenith/azimuth to ra/dec falling back to provided ra/dec\n",
      "13:36 bilby WARNING : Cannot find H1_time in parameters. Falling back to geocent time\n",
      "13:36 bilby WARNING : Cannot convert from zenith/azimuth to ra/dec falling back to provided ra/dec\n",
      "13:36 bilby WARNING : Cannot find H1_time in parameters. Falling back to geocent time\n",
      "13:36 bilby WARNING : Cannot convert from zenith/azimuth to ra/dec falling back to provided ra/dec\n",
      "13:36 bilby WARNING : Cannot find H1_time in parameters. Falling back to geocent time\n",
      "13:36 bilby WARNING : Cannot convert from zenith/azimuth to ra/dec falling back to provided ra/dec\n",
      "13:36 bilby WARNING : Cannot find H1_time in parameters. Falling back to geocent time\n",
      "13:36 bilby WARNING : Cannot convert from zenith/azimuth to ra/dec falling back to provided ra/dec\n",
      "13:36 bilby WARNING : Cannot find H1_time in parameters. Falling back to geocent time\n",
      "13:36 bilby WARNING : Cannot convert from zenith/azimuth to ra/dec falling back to provided ra/dec\n",
      "13:36 bilby WARNING : Cannot find H1_time in parameters. Falling back to geocent time\n",
      "13:36 bilby WARNING : Cannot convert from zenith/azimuth to ra/dec falling back to provided ra/dec\n",
      "13:36 bilby WARNING : Cannot find H1_time in parameters. Falling back to geocent time\n",
      "13:36 bilby WARNING : Cannot convert from zenith/azimuth to ra/dec falling back to provided ra/dec\n",
      "13:36 bilby WARNING : Cannot find H1_time in parameters. Falling back to geocent time\n",
      "13:36 bilby WARNING : Cannot convert from zenith/azimuth to ra/dec falling back to provided ra/dec\n",
      "13:36 bilby WARNING : Cannot find H1_time in parameters. Falling back to geocent time\n",
      "13:36 bilby WARNING : Cannot convert from zenith/azimuth to ra/dec falling back to provided ra/dec\n",
      "13:36 bilby WARNING : Cannot find H1_time in parameters. Falling back to geocent time\n",
      "13:36 bilby WARNING : Cannot convert from zenith/azimuth to ra/dec falling back to provided ra/dec\n",
      "13:36 bilby WARNING : Cannot find H1_time in parameters. Falling back to geocent time\n",
      "13:36 bilby WARNING : Cannot convert from zenith/azimuth to ra/dec falling back to provided ra/dec\n",
      "13:36 bilby WARNING : Cannot find H1_time in parameters. Falling back to geocent time\n",
      "13:36 bilby WARNING : Cannot convert from zenith/azimuth to ra/dec falling back to provided ra/dec\n",
      "13:36 bilby WARNING : Cannot find H1_time in parameters. Falling back to geocent time\n",
      "13:36 bilby WARNING : Cannot convert from zenith/azimuth to ra/dec falling back to provided ra/dec\n",
      "13:36 bilby WARNING : Cannot find H1_time in parameters. Falling back to geocent time\n",
      "13:36 bilby WARNING : Cannot convert from zenith/azimuth to ra/dec falling back to provided ra/dec\n",
      "13:36 bilby WARNING : Cannot find H1_time in parameters. Falling back to geocent time\n",
      "13:36 bilby WARNING : Cannot convert from zenith/azimuth to ra/dec falling back to provided ra/dec\n",
      "13:36 bilby WARNING : Cannot find H1_time in parameters. Falling back to geocent time\n",
      "13:36 bilby WARNING : Cannot convert from zenith/azimuth to ra/dec falling back to provided ra/dec\n",
      "13:36 bilby WARNING : Cannot find H1_time in parameters. Falling back to geocent time\n",
      "13:36 bilby WARNING : Cannot convert from zenith/azimuth to ra/dec falling back to provided ra/dec\n",
      "13:36 bilby WARNING : Cannot find H1_time in parameters. Falling back to geocent time\n",
      "13:36 bilby WARNING : Cannot convert from zenith/azimuth to ra/dec falling back to provided ra/dec\n",
      "13:36 bilby WARNING : Cannot find H1_time in parameters. Falling back to geocent time\n",
      "13:36 bilby WARNING : Cannot convert from zenith/azimuth to ra/dec falling back to provided ra/dec\n",
      "13:36 bilby WARNING : Cannot find H1_time in parameters. Falling back to geocent time\n",
      "13:36 bilby WARNING : Cannot convert from zenith/azimuth to ra/dec falling back to provided ra/dec\n",
      "13:36 bilby WARNING : Cannot find H1_time in parameters. Falling back to geocent time\n",
      "13:36 bilby WARNING : Cannot convert from zenith/azimuth to ra/dec falling back to provided ra/dec\n",
      "13:36 bilby WARNING : Cannot find H1_time in parameters. Falling back to geocent time\n",
      "13:36 bilby WARNING : Cannot convert from zenith/azimuth to ra/dec falling back to provided ra/dec\n",
      "13:36 bilby WARNING : Cannot find H1_time in parameters. Falling back to geocent time\n",
      "13:36 bilby WARNING : Cannot convert from zenith/azimuth to ra/dec falling back to provided ra/dec\n",
      "13:36 bilby WARNING : Cannot find H1_time in parameters. Falling back to geocent time\n",
      "13:36 bilby WARNING : Cannot convert from zenith/azimuth to ra/dec falling back to provided ra/dec\n",
      "13:36 bilby WARNING : Cannot find H1_time in parameters. Falling back to geocent time\n",
      "13:36 bilby WARNING : Cannot convert from zenith/azimuth to ra/dec falling back to provided ra/dec\n",
      "13:36 bilby WARNING : Cannot find H1_time in parameters. Falling back to geocent time\n",
      "13:36 bilby WARNING : Cannot convert from zenith/azimuth to ra/dec falling back to provided ra/dec\n",
      "13:36 bilby WARNING : Cannot find H1_time in parameters. Falling back to geocent time\n",
      "13:36 bilby WARNING : Cannot convert from zenith/azimuth to ra/dec falling back to provided ra/dec\n",
      "13:36 bilby WARNING : Cannot find H1_time in parameters. Falling back to geocent time\n",
      "13:36 bilby WARNING : Cannot convert from zenith/azimuth to ra/dec falling back to provided ra/dec\n",
      "13:36 bilby WARNING : Cannot find H1_time in parameters. Falling back to geocent time\n",
      "13:36 bilby WARNING : Cannot convert from zenith/azimuth to ra/dec falling back to provided ra/dec\n",
      "13:36 bilby WARNING : Cannot find H1_time in parameters. Falling back to geocent time\n",
      "13:36 bilby WARNING : Cannot convert from zenith/azimuth to ra/dec falling back to provided ra/dec\n",
      "13:36 bilby WARNING : Cannot find H1_time in parameters. Falling back to geocent time\n",
      "13:36 bilby WARNING : Cannot convert from zenith/azimuth to ra/dec falling back to provided ra/dec\n",
      "13:36 bilby WARNING : Cannot find H1_time in parameters. Falling back to geocent time\n",
      "13:36 bilby WARNING : Cannot convert from zenith/azimuth to ra/dec falling back to provided ra/dec\n",
      "13:36 bilby WARNING : Cannot find H1_time in parameters. Falling back to geocent time\n",
      "13:36 bilby WARNING : Cannot convert from zenith/azimuth to ra/dec falling back to provided ra/dec\n",
      "13:36 bilby WARNING : Cannot find H1_time in parameters. Falling back to geocent time\n",
      "13:36 bilby WARNING : Cannot convert from zenith/azimuth to ra/dec falling back to provided ra/dec\n",
      "13:36 bilby WARNING : Cannot find H1_time in parameters. Falling back to geocent time\n",
      "13:36 bilby WARNING : Cannot convert from zenith/azimuth to ra/dec falling back to provided ra/dec\n",
      "13:36 bilby WARNING : Cannot find H1_time in parameters. Falling back to geocent time\n",
      "13:36 bilby WARNING : Cannot convert from zenith/azimuth to ra/dec falling back to provided ra/dec\n",
      "13:36 bilby WARNING : Cannot find H1_time in parameters. Falling back to geocent time\n",
      "13:36 bilby WARNING : Cannot convert from zenith/azimuth to ra/dec falling back to provided ra/dec\n",
      "13:36 bilby WARNING : Cannot find H1_time in parameters. Falling back to geocent time\n",
      "13:36 bilby WARNING : Cannot convert from zenith/azimuth to ra/dec falling back to provided ra/dec\n",
      "13:36 bilby WARNING : Cannot find H1_time in parameters. Falling back to geocent time\n",
      "13:36 bilby WARNING : Cannot convert from zenith/azimuth to ra/dec falling back to provided ra/dec\n",
      "13:36 bilby WARNING : Cannot find H1_time in parameters. Falling back to geocent time\n",
      "13:36 bilby WARNING : Cannot convert from zenith/azimuth to ra/dec falling back to provided ra/dec\n",
      "13:36 bilby WARNING : Cannot find H1_time in parameters. Falling back to geocent time\n",
      "13:36 bilby WARNING : Cannot convert from zenith/azimuth to ra/dec falling back to provided ra/dec\n",
      "13:36 bilby WARNING : Cannot find H1_time in parameters. Falling back to geocent time\n",
      "13:36 bilby WARNING : Cannot convert from zenith/azimuth to ra/dec falling back to provided ra/dec\n",
      "13:36 bilby WARNING : Cannot find H1_time in parameters. Falling back to geocent time\n",
      "13:36 bilby WARNING : Cannot convert from zenith/azimuth to ra/dec falling back to provided ra/dec\n",
      "13:36 bilby WARNING : Cannot find H1_time in parameters. Falling back to geocent time\n",
      "13:36 bilby WARNING : Cannot convert from zenith/azimuth to ra/dec falling back to provided ra/dec\n",
      "13:36 bilby WARNING : Cannot find H1_time in parameters. Falling back to geocent time\n",
      "13:36 bilby WARNING : Cannot convert from zenith/azimuth to ra/dec falling back to provided ra/dec\n",
      "13:36 bilby WARNING : Cannot find H1_time in parameters. Falling back to geocent time\n",
      "13:36 bilby WARNING : Cannot convert from zenith/azimuth to ra/dec falling back to provided ra/dec\n",
      "13:36 bilby WARNING : Cannot find H1_time in parameters. Falling back to geocent time\n",
      "13:36 bilby WARNING : Cannot convert from zenith/azimuth to ra/dec falling back to provided ra/dec\n",
      "13:36 bilby WARNING : Cannot find H1_time in parameters. Falling back to geocent time\n",
      "13:36 bilby WARNING : Cannot convert from zenith/azimuth to ra/dec falling back to provided ra/dec\n",
      "13:36 bilby WARNING : Cannot find H1_time in parameters. Falling back to geocent time\n",
      "13:36 bilby WARNING : Cannot convert from zenith/azimuth to ra/dec falling back to provided ra/dec\n",
      "13:36 bilby WARNING : Cannot find H1_time in parameters. Falling back to geocent time\n",
      "13:36 bilby WARNING : Cannot convert from zenith/azimuth to ra/dec falling back to provided ra/dec\n",
      "13:36 bilby WARNING : Cannot find H1_time in parameters. Falling back to geocent time\n",
      "13:36 bilby WARNING : Cannot convert from zenith/azimuth to ra/dec falling back to provided ra/dec\n",
      "13:36 bilby WARNING : Cannot find H1_time in parameters. Falling back to geocent time\n",
      "13:36 bilby WARNING : Cannot convert from zenith/azimuth to ra/dec falling back to provided ra/dec\n",
      "13:36 bilby WARNING : Cannot find H1_time in parameters. Falling back to geocent time\n",
      "13:36 bilby WARNING : Cannot convert from zenith/azimuth to ra/dec falling back to provided ra/dec\n"
     ]
    }
   ],
   "source": [
    "idx_list = np.arange(0, 100, 1)\n",
    "\n",
    "bilby_L = []\n",
    "jim_L = []\n",
    "\n",
    "for idx in idx_list:\n",
    "    new_vals = get_jim_vals(idx)\n",
    "    likelihood.parameters.update(new_vals)\n",
    "    bilby_L.append(likelihood.log_likelihood())\n",
    "    jim_L.append(log_prob[idx])\n",
    "    \n",
    "bilby_L = np.array(bilby_L)\n",
    "jim_L = np.array(jim_L)\n",
    "diff = bilby_L - jim_L\n"
   ]
  },
  {
   "cell_type": "code",
   "execution_count": 8,
   "metadata": {},
   "outputs": [
    {
     "data": {
      "image/png": "[encoded data removed]",
      "text/plain": [
       "<Figure size 640x480 with 1 Axes>"
      ]
     },
     "metadata": {},
     "output_type": "display_data"
    }
   ],
   "source": [
    "plt.hist(bilby_L, bins = 20)\n",
    "plt.hist(jim_L, bins = 20)\n",
    "plt.show()"
   ]
  },
  {
   "cell_type": "code",
   "execution_count": 9,
   "metadata": {},
   "outputs": [
    {
     "data": {
      "image/png": "[encoded data removed]",
      "text/plain": [
       "<Figure size 640x480 with 1 Axes>"
      ]
     },
     "metadata": {},
     "output_type": "display_data"
    }
   ],
   "source": [
    "plt.hist(diff, bins = 20)\n",
    "plt.show()"
   ]
  },
  {
   "cell_type": "markdown",
   "metadata": {},
   "source": [
    "## Interferometers"
   ]
  },
  {
   "cell_type": "code",
   "execution_count": 16,
   "metadata": {},
   "outputs": [
    {
     "name": "stdout",
     "output_type": "stream",
     "text": [
      "4.0\n"
     ]
    }
   ],
   "source": [
    "for ifo in ifos:\n",
    "    # print(ifo.meta_data)\n",
    "    print(ifo.strain_data.duration)\n",
    "    break"
   ]
  },
  {
   "cell_type": "code",
   "execution_count": 11,
   "metadata": {},
   "outputs": [],
   "source": [
    "# from bilby.gw.detector import Interferometer\n",
    "# from bilby.gw.detector.networks import InterferometerList"
   ]
  },
  {
   "cell_type": "code",
   "execution_count": 12,
   "metadata": {},
   "outputs": [],
   "source": [
    "# # new_ifo = Interferometer()\n",
    "# new_ifos = InterferometerList([\"H1\", \"L1\", \"V1\"])\n",
    "# new_ifos"
   ]
  },
  {
   "cell_type": "markdown",
   "metadata": {},
   "source": [
    "## Replicate the steps of parallel bilby"
   ]
  },
  {
   "cell_type": "code",
   "execution_count": 18,
   "metadata": {},
   "outputs": [],
   "source": [
    "import pickle"
   ]
  },
  {
   "cell_type": "code",
   "execution_count": 34,
   "metadata": {},
   "outputs": [
    {
     "name": "stdout",
     "output_type": "stream",
     "text": [
      "dict_keys(['waveform_generator', 'ifo_list', 'prior_file', 'args', 'data_dump_file', 'meta_data', 'injection_parameters'])\n",
      "{'chirp_mass': 60.0, 'mass_ratio': 0.65, 'chi_1': 0.11737346979395644, 'chi_2': 0.5308517575336058, 'luminosity_distance': 2500.0, 'dec': 2.5, 'ra': 2.5, 'theta_jn': 2.5, 'psi': 0.4, 'phase': 0.4, 'geocent_time': 0.0, 'fiducial': 1.0}\n"
     ]
    }
   ],
   "source": [
    "datadump_file = \"./outdir/out_bbh_0/data/bbh_0_data_dump.pickle\"\n",
    "with open(datadump_file, \"rb\") as f:\n",
    "    data = pickle.load(f)\n",
    "    \n",
    "print(data.keys())\n",
    "waveform_generator = data[\"waveform_generator\"]\n",
    "ifo_list = data[\"ifo_list\"]\n",
    "prior_file = data[\"prior_file\"]\n",
    "args = data[\"args\"]\n",
    "meta_data = data[\"meta_data\"]\n",
    "injection_parameters = data[\"injection_parameters\"]"
   ]
  },
  {
   "cell_type": "code",
   "execution_count": 42,
   "metadata": {},
   "outputs": [
    {
     "data": {
      "text/plain": [
       "'geocent'"
      ]
     },
     "execution_count": 42,
     "metadata": {},
     "output_type": "execute_result"
    }
   ],
   "source": [
    "args.time_reference"
   ]
  },
  {
   "cell_type": "code",
   "execution_count": 36,
   "metadata": {},
   "outputs": [],
   "source": [
    "likelihood_kwargs = dict(\n",
    "    interferometers=ifo_list,\n",
    "    waveform_generator=waveform_generator\n",
    "    priors=priors,\n",
    "    phase_marginalization=args.phase_marginalization,\n",
    "    distance_marginalization=args.distance_marginalization,\n",
    "    distance_marginalization_lookup_table=args.distance_marginalization_lookup_table,\n",
    "    time_marginalization=args.time_marginalization,\n",
    "    reference_frame=args.reference_frame,\n",
    "    time_reference=args.time_reference,\n",
    ")"
   ]
  },
  {
   "cell_type": "code",
   "execution_count": null,
   "metadata": {},
   "outputs": [],
   "source": []
  }
 ],
 "metadata": {
  "kernelspec": {
   "display_name": "Python 3",
   "language": "python",
   "name": "python3"
  },
  "language_info": {
   "codemirror_mode": {
    "name": "ipython",
    "version": 3
   },
   "file_extension": ".py",
   "mimetype": "text/x-python",
   "name": "python",
   "nbconvert_exporter": "python",
   "pygments_lexer": "ipython3",
   "version": "3.10.13"
  },
  "orig_nbformat": 4
 },
 "nbformat": 4,
 "nbformat_minor": 2
}
